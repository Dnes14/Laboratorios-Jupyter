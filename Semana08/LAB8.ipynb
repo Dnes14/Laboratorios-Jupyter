{
 "cells": [
  {
   "cell_type": "markdown",
   "id": "f07f372e-d866-42a1-a518-9b86b3d38176",
   "metadata": {},
   "source": [
    "# Laboratorio 8: MÉTODO SIMPLEX. FORMA ESTÁNDAR. PASOS DEL MÉTODO SIMPLEX\n",
    "\n",
    "## Integrantes:\n",
    "\n",
    "- Cervera Vasquez, Eslin Yair\n",
    "- Escriba Flores, Daniel Agustin\n",
    "\n",
    "---"
   ]
  },
  {
   "cell_type": "code",
   "execution_count": 1,
   "id": "ceda59bd-3958-4f83-b9a1-d0bf30d086fa",
   "metadata": {},
   "outputs": [],
   "source": [
    "## Importamos las librerias necesarias \n",
    "import numpy as np\n",
    "from scipy.optimize import linprog\n",
    "\n",
    "# ================================\n",
    "import warnings\n",
    "warnings.filterwarnings('ignore')"
   ]
  },
  {
   "cell_type": "markdown",
   "id": "6ca77d45-6789-44c9-80dc-ddb4d171a64e",
   "metadata": {},
   "source": [
    "---\n",
    "\n",
    "## PROBLEMATICA\n",
    "\n",
    "Prime S. A. es una empresa de la ciudad de Lima que se dedica a la fabricación de carrocerías para automóviles, camiones y furgonetas, la cual consta de dos tipos. En el tipo A, para fabricar la carrocería de un camión, se invierten 4 días/operario, para fabricar la de un automóvil se invierten 2 días/operario y para fabricar una de furgoneta 2 días/operario. En el tipo B se invierten 5 días/operario tanto en carrocerías para camión, automóvil y furgoneta. Por limitaciones de maquinaria en los talleres y mano de obra, el tipo A dispone de 315 días/operario y el tipo B de 290 días/operario. Los beneficios que se obtienen por cada carrocería son: para automóvil `$6125`, para camión `$5550` y para furgoneta `$6125`."
   ]
  },
  {
   "cell_type": "markdown",
   "id": "ec6d898b-e94d-4152-a433-c2bff7dd19cb",
   "metadata": {},
   "source": [
    "---\n",
    "\n",
    "## Parte A\n",
    "\n",
    "Escriba el problema de programación lineal que maximice los beneficios y luego conviértalo a su forma estándar."
   ]
  },
  {
   "cell_type": "markdown",
   "id": "16fe8ea6-0ae1-452c-8f6e-7d1496a4a8d7",
   "metadata": {},
   "source": [
    "### Programacion lineal\n",
    "\n",
    "$x1$ : Número de carrocerías de automóviles fabricadas.   \n",
    "$x2$ : Número de carrocerías de camiones fabricadas.  \n",
    "$x3$ : Número de carrocerías de furgonetas fabricadas.  \n",
    "\n",
    "\n",
    "Maximizar $z = 6125x1 + 5550x2 + 6125x3$   \n",
    "\n",
    "sujeto a  \n",
    "\n",
    "$2x1 + 4x2 + 2x3 <= 315$  \n",
    "$5x1 + 5x2 + 5x3 <= 290$  \n",
    " "
   ]
  },
  {
   "cell_type": "markdown",
   "id": "ad56f1bf-ab75-4704-ac6a-2d44ec177ac7",
   "metadata": {},
   "source": [
    "### Forma estandar\n",
    "\n",
    "$x1$ : Número de carrocerías de automóviles fabricadas.   \n",
    "$x2$ : Número de carrocerías de camiones fabricadas.  \n",
    "$x3$ : Número de carrocerías de furgonetas fabricadas.   \n",
    "$s1$ : variable de holgura 1   \n",
    "$s2$ : variable de holgura 2   \n",
    "\n",
    "Maximizar $z - 6125x1 - 5550x2 - 6125x3= 0$  \n",
    "\n",
    "sujeto a \n",
    "\n",
    "$2x1 + 4x2 + 2x3 + s1 = 315$  \n",
    "$5x1 + 5x2 + 5x3 + s2 = 290$  \n"
   ]
  },
  {
   "cell_type": "markdown",
   "id": "ef8aada4-5fbd-4b21-90de-d3988bc9de2f",
   "metadata": {},
   "source": [
    "---\n",
    "\n",
    "## Parte B\n",
    "\n",
    "Resuelva el problema de programación lineal haciendo uso de las funciones vistas en clase, pero indicando en la matriz actualizada, los cambios de la fila pivote a columna pivote y que se refleje en la solución final."
   ]
  },
  {
   "cell_type": "code",
   "execution_count": 2,
   "id": "2c6637d9-474a-4464-bbfe-1e20fcbfaf01",
   "metadata": {},
   "outputs": [],
   "source": [
    "\n",
    "z = np.array([-6125,-5550,-6125,0,0])\n",
    "A = np.array([[2,4,2,1,0],\n",
    "            [5,5,5,0,1]])\n",
    "b = np.array([315,290,0])\n",
    "\n",
    "\n",
    "# Etiquetamos las filas y columnas\n",
    " \n",
    "variables_básicas = ['s1', 's2','z']  \n",
    "columnas = ['x1', 'x2', 'x3', 's1', 's2']  "
   ]
  },
  {
   "cell_type": "code",
   "execution_count": 3,
   "id": "7cbce195-e3fe-4388-875d-d507924dface",
   "metadata": {},
   "outputs": [],
   "source": [
    "# Modificamos la funcion tabla, para mostrar los cambios\n",
    "\n",
    "def tabla_simplex(z, A, b):\n",
    "    \n",
    "    tabla = np.hstack((np.vstack((A,z)),np.vstack(b)))  # Agregar b como última columna\n",
    "    print(\"\\nTabla Simplex:\")\n",
    "    print()\n",
    "    print(f\"{'Var Básica':>9}\", end=\"   \")\n",
    "    for var in columnas:\n",
    "        print(f\"{var:>9}\", end=\"   \")\n",
    "    print(f\"{'CR':>9}\")  \n",
    "    print()\n",
    "    for i, fila in enumerate(tabla):\n",
    "        print(f\"{variables_básicas[i]:>9}\", end=\"   \")\n",
    "        for valor in fila:\n",
    "            print(f\"{valor:>9.3f}\", end=\"   \")\n",
    "        print() # \n",
    "        print() # Doble espaciado\n"
   ]
  },
  {
   "cell_type": "code",
   "execution_count": 4,
   "id": "118cf539-1764-4dff-b077-a3066fbf0480",
   "metadata": {},
   "outputs": [],
   "source": [
    "def encontrar_columna_pivote(z):\n",
    "    val = np.min(z)\n",
    "    col = np.argmin(z)\n",
    "    return val, col"
   ]
  },
  {
   "cell_type": "code",
   "execution_count": 5,
   "id": "53b669f2-4811-46ff-8fa4-66f022dc6910",
   "metadata": {},
   "outputs": [],
   "source": [
    "def encontrar_fila_pivote(A, b, col):\n",
    "    filas, columnas = np.shape(A)\n",
    "    ratio = []\n",
    "\n",
    "    for i in range(filas):\n",
    "        ratio_val = b[i]/A[i,col]\n",
    "        if ratio_val > 0:\n",
    "            ratio.append(ratio_val)\n",
    "\n",
    "    return ratio.index(min(ratio))"
   ]
  },
  {
   "cell_type": "code",
   "execution_count": 6,
   "id": "7169f9eb-ae59-4a0f-8564-f4185b976873",
   "metadata": {},
   "outputs": [],
   "source": [
    "def actualizar_tabla(z, A, b, fil, col):\n",
    "    filas, columnas = np.shape(A)\n",
    "    A = A.astype(float)\n",
    "\n",
    "    # Obtener un 1 en la intersección de la fila y columna pivote\n",
    "    pivote = A[fil,col]\n",
    "    A[fil] = A[fil]/pivote\n",
    "    b[fil] = b[fil]/pivote\n",
    "\n",
    "    # Actualizar los valores de las ecuaciones\n",
    "    for i in range(filas):\n",
    "        if A[i,col] != 0 and i != fil:\n",
    "            b[i] = b[i] - (b[fil]*A[i,col])\n",
    "            A[i] = A[i] - (A[fil]*A[i,col])\n",
    "\n",
    "    z = z - (A[fil]*z[col])\n",
    "\n",
    "    return z, A, b"
   ]
  },
  {
   "cell_type": "code",
   "execution_count": 7,
   "id": "1599793c-e8bf-4460-936f-abe253d099b5",
   "metadata": {},
   "outputs": [],
   "source": [
    "def actualizar_tabla(z, A, b, fil, col):\n",
    "    filas, columnas = np.shape(A)\n",
    "    A = A.astype(float)\n",
    "\n",
    "    # Obtener un 1 en la intersección de la fila y columna pivote\n",
    "    pivote = A[fil,col]\n",
    "    A[fil] = A[fil]/pivote\n",
    "    b[fil] = b[fil]/pivote\n",
    "\n",
    "    # Actualizar los valores de las ecuaciones\n",
    "    for i in range(filas):\n",
    "        if A[i,col] != 0 and i != fil:\n",
    "            b[i] = b[i] - (b[fil]*A[i,col])\n",
    "            A[i] = A[i] - (A[fil]*A[i,col])\n",
    "\n",
    "    # Actualizar la función objetivo\n",
    "    b[filas] = b[filas] - (b[fil]*z[col])\n",
    "    z = z - (A[fil]*z[col])\n",
    "\n",
    "    return z, A, b"
   ]
  },
  {
   "cell_type": "code",
   "execution_count": 8,
   "id": "2afaa1aa-7fdb-48ac-843c-f6cc84249495",
   "metadata": {},
   "outputs": [
    {
     "name": "stdout",
     "output_type": "stream",
     "text": [
      "Tabla inicial (Simplex):\n",
      "\n",
      "Tabla Simplex:\n",
      "\n",
      "Var Básica          x1          x2          x3          s1          s2          CR\n",
      "\n",
      "       s1       2.000       4.000       2.000       1.000       0.000     315.000   \n",
      "\n",
      "       s2       5.000       5.000       5.000       0.000       1.000     290.000   \n",
      "\n",
      "        z   -6125.000   -5550.000   -6125.000       0.000       0.000       0.000   \n",
      "\n",
      "Filas de Restriciones: ['s1', 's2', 'z']\n",
      "\n",
      "======================================================================\n",
      "\n",
      "\n",
      "Iteración 1:\n",
      "\n",
      "Columna pivote: 1, Fila pivote: 2 (Variable entrante: x1)\n",
      "Variable s2 sale de la base y la variable x1 entra en la base.\n",
      "\n",
      "\n",
      "\n",
      "Tabla Simplex:\n",
      "\n",
      "Var Básica          x1          x2          x3          s1          s2          CR\n",
      "\n",
      "       s1       0.000       2.000       0.000       1.000      -0.400     199.000   \n",
      "\n",
      "       x1       1.000       1.000       1.000       0.000       0.200      58.000   \n",
      "\n",
      "        z       0.000     575.000       0.000       0.000    1225.000   355250.000   \n",
      "\n",
      "Filas de Restriciones actualizadas: ['s1', 'x1', 'z']\n",
      "\n",
      "======================================================================\n",
      "\n",
      "\n",
      "Tabla final (solución óptima):\n",
      "\n",
      "Tabla Simplex:\n",
      "\n",
      "Var Básica          x1          x2          x3          s1          s2          CR\n",
      "\n",
      "       s1       0.000       2.000       0.000       1.000      -0.400     199.000   \n",
      "\n",
      "       x1       1.000       1.000       1.000       0.000       0.200      58.000   \n",
      "\n",
      "        z       0.000     575.000       0.000       0.000    1225.000   355250.000   \n",
      "\n",
      "\n",
      "Solución final:\n",
      "x1 = 58.0\n",
      "x2 = 0.0\n",
      "x3 = 0.0\n",
      "z = 355250.0\n"
     ]
    }
   ],
   "source": [
    "# Agregamos funcion decoracion para ordenar\n",
    "def Linea_de_separacion():\n",
    "    return print(\"\\n\"+\"=======\"*10+\"\\n\")\n",
    "\n",
    "# Mostrar la tabla inicial\n",
    "print(\"Tabla inicial (Simplex):\")\n",
    "tabla_simplex(z, A, b)\n",
    "print(f\"Filas de Restriciones: {variables_básicas}\")\n",
    "Linea_de_separacion()\n",
    "val, col = encontrar_columna_pivote(z)\n",
    "iteracion = 1\n",
    "\n",
    "\n",
    "# Bucle Simplex\n",
    "while val < 0:\n",
    "  \n",
    "    print(f\"\\nIteración {iteracion}:\")\n",
    "    print()\n",
    "    # Encontrar la fila pivote\n",
    "    fil = encontrar_fila_pivote(A, b, col)\n",
    "    print(f\"Columna pivote: {col+1}, Fila pivote: {fil+1} (Variable entrante: {columnas[col]})\")\n",
    "\n",
    "    # Mostrar qué variable entra y qué variable sale\n",
    "    var_saliente = variables_básicas[fil]\n",
    "    var_entrante = columnas[col]\n",
    "    print(f\"Variable {var_saliente} sale de la base y la variable {var_entrante} entra en la base.\")\n",
    "    print()\n",
    "    print()\n",
    "    \n",
    "    # Actualizar las variables básicas y no básicas\n",
    "    variables_básicas[fil] = var_entrante\n",
    "    \n",
    "    # Actualizar la tabla con el pivote\n",
    "    z, A, b = actualizar_tabla(z, A, b, fil, col)\n",
    "    \n",
    "    # Mostrar la tabla actualizada\n",
    "    tabla_simplex(z, A, b)\n",
    "    print(f\"Filas de Restriciones actualizadas: {variables_básicas}\")\n",
    "    Linea_de_separacion()\n",
    "    \n",
    "    # Encontrar la nueva columna pivote\n",
    "    val, col = encontrar_columna_pivote(z)\n",
    "    iteracion += 1\n",
    "    \n",
    "\n",
    "# Mostrar la tabla final y solución\n",
    "print(\"\\nTabla final (solución óptima):\")\n",
    "tabla_simplex(z, A, b)\n",
    "\n",
    "\n",
    "# Calcular los valores finales de las variables\n",
    "\n",
    "variables = ['x1', 'x2', 'x3','z']\n",
    "\n",
    "solucion = np.zeros(4)  # Solo para las variables x1, x2, x3\n",
    "for i in range(len(variables_básicas)):\n",
    "    if variables_básicas[i] in variables:  # Solo para x1, x2, x3\n",
    "        indice = variables.index(variables_básicas[i])\n",
    "        solucion[indice] = b[i]\n",
    "\n",
    "# Mostrar la solución final\n",
    "print(\"\\nSolución final:\")\n",
    "for i, valor in enumerate(solucion):\n",
    "    print(f\"{variables[i]} = {valor}\")\n",
    "\n",
    "\n"
   ]
  },
  {
   "cell_type": "markdown",
   "id": "5b3ed33d-8f6a-40f7-bdf3-42c5808e5a3d",
   "metadata": {},
   "source": [
    "---\n",
    "\n",
    "## Parte C\n",
    "\n",
    "Verifique que se obtienen los mismos resultados por medio de la función ‘linprog’ de la librería ‘scipy’."
   ]
  },
  {
   "cell_type": "code",
   "execution_count": 9,
   "id": "e0f204c5-91d3-4e32-8f60-4e2298e8501d",
   "metadata": {},
   "outputs": [],
   "source": [
    "from scipy.optimize import linprog\n",
    "z = np.array([-6125, -5550,-6123])\n",
    "A = np.array([[2, 4, 2], [5,5,5]])\n",
    "b = np.array([315,290])"
   ]
  },
  {
   "cell_type": "code",
   "execution_count": 10,
   "id": "1f2fa1f2-aa86-4b07-b130-702859215007",
   "metadata": {},
   "outputs": [
    {
     "name": "stdout",
     "output_type": "stream",
     "text": [
      " message: Optimization terminated successfully.\n",
      " success: True\n",
      "  status: 0\n",
      "     fun: -355250.0\n",
      "       x: [ 5.800e+01  0.000e+00  0.000e+00]\n",
      "     nit: 1\n"
     ]
    }
   ],
   "source": [
    "resul = linprog(z,A,b,method=\"revised simplex\")\n",
    "print(resul)\n"
   ]
  },
  {
   "cell_type": "code",
   "execution_count": null,
   "id": "455e11cb-283d-4142-a421-f71631173c5f",
   "metadata": {},
   "outputs": [
    {
     "name": "stdout",
     "output_type": "stream",
     "text": [
      "z_max = 355250.0, x1 = 58.0, x2 = 0.0, x3 = 0.0\n"
     ]
    }
   ],
   "source": [
    "print('z_max = {0:.1f}, x1 = {1:.1f}, x2 = {2:.1f}, x3 = {3:.1f}'.\n",
    "      format(-resul.fun,resul.x[0],resul.x[1],resul.x[2]))"
   ]
  },
  {
   "cell_type": "markdown",
   "id": "848f07c7-a7c7-4f2f-b05a-cdc89ee5da1d",
   "metadata": {},
   "source": [
    "### Conclusion:\n",
    "\n",
    "Nuestro análisis comparativo revela que la implementación manual del método Simplex y el método 'revised simplex' producen resultados coincidentes, lo que confirma la corrección y eficiencia de nuestra implementación"
   ]
  }
 ],
 "metadata": {
  "kernelspec": {
   "display_name": "Lab-MACD",
   "language": "python",
   "name": "python3"
  },
  "language_info": {
   "codemirror_mode": {
    "name": "ipython",
    "version": 3
   },
   "file_extension": ".py",
   "mimetype": "text/x-python",
   "name": "python",
   "nbconvert_exporter": "python",
   "pygments_lexer": "ipython3",
   "version": "3.12.6"
  }
 },
 "nbformat": 4,
 "nbformat_minor": 5
}
