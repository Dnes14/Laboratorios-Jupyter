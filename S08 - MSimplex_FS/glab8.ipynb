{
 "cells": [
  {
   "cell_type": "markdown",
   "id": "1f814e5f-072e-4860-887b-8d98367f448f",
   "metadata": {},
   "source": [
    "$x1$ : número de productos fabricados de tipo 1   \n",
    "$x2$ : número de productos fabricados de tipo 2   \n",
    "$x3$ : número de productos fabricados de tipo 3   "
   ]
  },
  {
   "cell_type": "markdown",
   "id": "c25a77de-00a7-4cc1-b322-a861673b2847",
   "metadata": {},
   "source": [
    "Maximizar $z = 4.5x1 + 5x2 + 4x3$   \n",
    "sujeto a   \n",
    "$10x1 + 5x2 + 6x3 <= 600$  \n",
    "$6x1 + 8x2 + 9x3 <= 600$  \n",
    "$8x1 + 10x2 + 12x3 <=600$  "
   ]
  },
  {
   "cell_type": "markdown",
   "id": "87491f46-a5da-42be-98cb-fd1100b473eb",
   "metadata": {},
   "source": [
    "$x1$ : número de productos fabricados de tipo 1   \n",
    "$x2$ : número de productos fabricados de tipo 2   \n",
    "$x3$ : número de productos fabricados de tipo 3   \n",
    "$s1$ : variable de holgura 1   \n",
    "$s2$ : variable de holgura 2   \n",
    "$s3$ : variable de holgura 3  "
   ]
  },
  {
   "cell_type": "markdown",
   "id": "83241901-13b0-4dea-b651-47e379d838cd",
   "metadata": {},
   "source": [
    "Maximizar $z - 4.5x1 - 5x2 - 4x3 = 0$  \n",
    "sujeto a   \n",
    "$10x1 + 5x2 + 6x3 + s1 = 600$   \n",
    "$6x1 + 8x2 + 9x3 + s2 = 600$   \n",
    "$8x1 + 10x2 + 12x3 + s3 = 600$"
   ]
  },
  {
   "cell_type": "code",
   "execution_count": 12,
   "id": "c68980bf-7497-41cd-8f16-c7ed4946ee89",
   "metadata": {},
   "outputs": [],
   "source": [
    "import numpy as np\n",
    "z = np.array([-4.5, -5,-4,0,0,0])\n",
    "A = np.array([[10,5,6,1,0,0],\n",
    "            [6,8,9,0,1,0],\n",
    "            [8,10,12,0,0,1]])\n",
    "b = np.array([600,600,600,0])"
   ]
  },
  {
   "cell_type": "code",
   "execution_count": 13,
   "id": "d8d56ef4-d38c-40e6-8bf6-2804aa969728",
   "metadata": {},
   "outputs": [],
   "source": [
    "def tabla_simplex(z, A, b):\n",
    "    return np.hstack((np.vstack((A,z)),np.vstack(b)))\n",
    "\n",
    "#tabla_simplex(z,A,b)"
   ]
  },
  {
   "cell_type": "code",
   "execution_count": 14,
   "id": "e5b05c37-b3d9-46c5-b62a-ff87b202ad01",
   "metadata": {},
   "outputs": [],
   "source": [
    "def encontrar_columna_pivote(z):\n",
    "    val = np.min(z)\n",
    "    col = np.argmin(z)\n",
    "    return val, col\n",
    "\n",
    "#val, col = encontrar_columna_pivote(z)\n",
    "#print(val, col)"
   ]
  },
  {
   "cell_type": "code",
   "execution_count": 15,
   "id": "0c7d4529-8278-4751-9c87-e4c072863a9c",
   "metadata": {},
   "outputs": [],
   "source": [
    "def encontrar_fila_pivote(A, b, col):\n",
    "    filas, columnas = np.shape(A)\n",
    "    ratio = []\n",
    "\n",
    "    for i in range(filas):\n",
    "        ratio_val = b[i]/A[i,col]\n",
    "        if ratio_val > 0:\n",
    "            ratio.append(ratio_val)\n",
    "\n",
    "    return ratio.index(min(ratio))\n",
    "\n",
    "#fil = encontrar_fila_pivote(A, b, col)"
   ]
  },
  {
   "cell_type": "code",
   "execution_count": 16,
   "id": "9aeeb8cb-b9c6-4308-ab8b-d404013a95c4",
   "metadata": {},
   "outputs": [],
   "source": [
    "def actualizar_tabla(z, A, b, fil, col):\n",
    "    filas, columnas = np.shape(A)\n",
    "    A = A.astype(float)\n",
    "\n",
    "    # Obtener un 1 en la intersección de la fila y columna pivote\n",
    "    pivote = A[fil,col]\n",
    "    A[fil] = A[fil]/pivote\n",
    "    b[fil] = b[fil]/pivote\n",
    "\n",
    "    # Actualizar los valores de las ecuaciones\n",
    "    for i in range(filas):\n",
    "        if A[i,col] != 0 and i != fil:\n",
    "            b[i] = b[i] - (b[fil]*A[i,col])\n",
    "            A[i] = A[i] - (A[fil]*A[i,col])\n",
    "\n",
    "    # Actualizar la función objetivo\n",
    "    b[filas] = b[filas] - (b[fil]*z[col])\n",
    "    z = z - (A[fil]*z[col])\n",
    "\n",
    "    return z, A, b\n",
    "\n",
    "#actualizar_tabla(z, A, b, fil, col)"
   ]
  },
  {
   "cell_type": "code",
   "execution_count": 17,
   "id": "7f68336d-87ba-415e-9f3b-441f99627600",
   "metadata": {},
   "outputs": [
    {
     "name": "stdout",
     "output_type": "stream",
     "text": [
      "Tabla inicial:\n",
      "[[ 10.    5.    6.    1.    0.    0.  600. ]\n",
      " [  6.    8.    9.    0.    1.    0.  600. ]\n",
      " [  8.   10.   12.    0.    0.    1.  600. ]\n",
      " [ -4.5  -5.   -4.    0.    0.    0.    0. ]]\n",
      "\n",
      "Iteración 1:\n",
      "Fila pivote: 2, Columna pivote: 1\n",
      "Tabla actualizada:\n",
      "[[ 6.0e+00  0.0e+00  0.0e+00  1.0e+00  0.0e+00 -5.0e-01  3.0e+02]\n",
      " [-4.0e-01  0.0e+00 -6.0e-01  0.0e+00  1.0e+00 -8.0e-01  1.2e+02]\n",
      " [ 8.0e-01  1.0e+00  1.2e+00  0.0e+00  0.0e+00  1.0e-01  6.0e+01]\n",
      " [-5.0e-01  0.0e+00  2.0e+00  0.0e+00  0.0e+00  5.0e-01  3.0e+02]]\n",
      "\n",
      "Iteración 2:\n",
      "Fila pivote: 0, Columna pivote: 0\n",
      "Tabla actualizada:\n",
      "[[ 1.00000000e+00  0.00000000e+00  0.00000000e+00  1.66666667e-01\n",
      "   0.00000000e+00 -8.33333333e-02  5.00000000e+01]\n",
      " [ 0.00000000e+00  0.00000000e+00 -6.00000000e-01  6.66666667e-02\n",
      "   1.00000000e+00 -8.33333333e-01  1.40000000e+02]\n",
      " [ 0.00000000e+00  1.00000000e+00  1.20000000e+00 -1.33333333e-01\n",
      "   0.00000000e+00  1.66666667e-01  2.00000000e+01]\n",
      " [ 0.00000000e+00  0.00000000e+00  2.00000000e+00  8.33333333e-02\n",
      "   0.00000000e+00  4.58333333e-01  3.25000000e+02]]\n",
      "\n",
      "Tabla final (solución óptima):\n",
      "[[ 1.00000000e+00  0.00000000e+00  0.00000000e+00  1.66666667e-01\n",
      "   0.00000000e+00 -8.33333333e-02  5.00000000e+01]\n",
      " [ 0.00000000e+00  0.00000000e+00 -6.00000000e-01  6.66666667e-02\n",
      "   1.00000000e+00 -8.33333333e-01  1.40000000e+02]\n",
      " [ 0.00000000e+00  1.00000000e+00  1.20000000e+00 -1.33333333e-01\n",
      "   0.00000000e+00  1.66666667e-01  2.00000000e+01]\n",
      " [ 0.00000000e+00  0.00000000e+00  2.00000000e+00  8.33333333e-02\n",
      "   0.00000000e+00  4.58333333e-01  3.25000000e+02]]\n"
     ]
    }
   ],
   "source": [
    "print(\"Tabla inicial:\")\n",
    "print(tabla_simplex(z, A, b))\n",
    "\n",
    "val, col = encontrar_columna_pivote(z)\n",
    "iteracion = 1\n",
    "\n",
    "while val < 0: \n",
    "    print(f\"\\nIteración {iteracion}:\")\n",
    "    fil = encontrar_fila_pivote(A, b, col) \n",
    "    print(f\"Fila pivote: {fil}, Columna pivote: {col}\")\n",
    "    z, A, b = actualizar_tabla(z, A, b, fil, col)\n",
    "    print(\"Tabla actualizada:\")\n",
    "    print(tabla_simplex(z, A, b))\n",
    "    val, col = encontrar_columna_pivote(z)\n",
    "    iteracion += 1\n",
    "\n",
    "print(\"\\nTabla final (solución óptima):\")\n",
    "print(tabla_simplex(z, A, b))"
   ]
  },
  {
   "cell_type": "code",
   "execution_count": null,
   "id": "de1c36c6-8666-45f3-83b0-cbd8029c178e",
   "metadata": {},
   "outputs": [],
   "source": []
  },
  {
   "cell_type": "code",
   "execution_count": 18,
   "id": "5c551952-a368-4a0b-8228-3891aa14a38a",
   "metadata": {},
   "outputs": [],
   "source": [
    "from scipy.optimize import linprog\n",
    "z = np.array([-4.5, -5, -4])\n",
    "A = np.array([[10, 5, 6], [6, 8, 9], [8, 10, 12]])\n",
    "b = np.array([600, 600, 600])"
   ]
  },
  {
   "cell_type": "code",
   "execution_count": 19,
   "id": "3c5f249f-a4b6-488b-9cb4-693aa3a12bd8",
   "metadata": {},
   "outputs": [
    {
     "name": "stdout",
     "output_type": "stream",
     "text": [
      " message: Optimization terminated successfully.\n",
      " success: True\n",
      "  status: 0\n",
      "     fun: -325.0\n",
      "       x: [ 5.000e+01  2.000e+01  0.000e+00]\n",
      "     nit: 2\n"
     ]
    },
    {
     "name": "stderr",
     "output_type": "stream",
     "text": [
      "C:\\Users\\Danie\\AppData\\Local\\Temp\\ipykernel_13616\\1680923369.py:1: DeprecationWarning: `method='revised simplex'` is deprecated and will be removed in SciPy 1.11.0. Please use one of the HiGHS solvers (e.g. `method='highs'`) in new code.\n",
      "  resul = linprog(z,A,b,method=\"revised simplex\")\n"
     ]
    }
   ],
   "source": [
    "resul = linprog(z,A,b,method=\"revised simplex\")\n",
    "print(resul)\n"
   ]
  },
  {
   "cell_type": "code",
   "execution_count": 20,
   "id": "64326cc1-8257-4caa-9b9d-1e6f6307d790",
   "metadata": {},
   "outputs": [
    {
     "name": "stdout",
     "output_type": "stream",
     "text": [
      "z_max = 325.0, x1 = 50.0, x2 = 20.0, x3 = 0.0\n"
     ]
    }
   ],
   "source": [
    "    print('z_max = {0:.1f}, x1 = {1:.1f}, x2 = {2:.1f}, x3 = {3:.1f}'.\n",
    "      format(-resul.fun,resul.x[0],resul.x[1],resul.x[2]))"
   ]
  },
  {
   "cell_type": "code",
   "execution_count": null,
   "id": "970cef23-dbc0-489e-9daf-1745d27cb53e",
   "metadata": {},
   "outputs": [],
   "source": []
  }
 ],
 "metadata": {
  "kernelspec": {
   "display_name": "Python 3 (ipykernel)",
   "language": "python",
   "name": "python3"
  },
  "language_info": {
   "codemirror_mode": {
    "name": "ipython",
    "version": 3
   },
   "file_extension": ".py",
   "mimetype": "text/x-python",
   "name": "python",
   "nbconvert_exporter": "python",
   "pygments_lexer": "ipython3",
   "version": "3.12.4"
  }
 },
 "nbformat": 4,
 "nbformat_minor": 5
}
