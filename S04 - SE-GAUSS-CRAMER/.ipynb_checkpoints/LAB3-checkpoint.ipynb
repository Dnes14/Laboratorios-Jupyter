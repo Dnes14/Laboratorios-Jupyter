{
 "cells": [
  {
   "cell_type": "code",
   "execution_count": 1,
   "id": "3931ae77-847a-48f3-8df0-fa4ac539e855",
   "metadata": {},
   "outputs": [],
   "source": [
    "import pandas as pd\n",
    "import numpy as np\n",
    "from sklearn.linear_model import LinearRegression"
   ]
  },
  {
   "cell_type": "code",
   "execution_count": 2,
   "id": "d31de683-7228-4486-8d07-8a74921f4f6b",
   "metadata": {},
   "outputs": [
    {
     "data": {
      "text/html": [
       "<div>\n",
       "<style scoped>\n",
       "    .dataframe tbody tr th:only-of-type {\n",
       "        vertical-align: middle;\n",
       "    }\n",
       "\n",
       "    .dataframe tbody tr th {\n",
       "        vertical-align: top;\n",
       "    }\n",
       "\n",
       "    .dataframe thead th {\n",
       "        text-align: right;\n",
       "    }\n",
       "</style>\n",
       "<table border=\"1\" class=\"dataframe\">\n",
       "  <thead>\n",
       "    <tr style=\"text-align: right;\">\n",
       "      <th></th>\n",
       "      <th>TV</th>\n",
       "      <th>Radio</th>\n",
       "      <th>Newspaper</th>\n",
       "      <th>Sales</th>\n",
       "    </tr>\n",
       "  </thead>\n",
       "  <tbody>\n",
       "    <tr>\n",
       "      <th>0</th>\n",
       "      <td>230.1</td>\n",
       "      <td>37.8</td>\n",
       "      <td>69.2</td>\n",
       "      <td>22.1</td>\n",
       "    </tr>\n",
       "    <tr>\n",
       "      <th>1</th>\n",
       "      <td>44.5</td>\n",
       "      <td>39.3</td>\n",
       "      <td>45.1</td>\n",
       "      <td>10.4</td>\n",
       "    </tr>\n",
       "    <tr>\n",
       "      <th>2</th>\n",
       "      <td>17.2</td>\n",
       "      <td>45.9</td>\n",
       "      <td>69.3</td>\n",
       "      <td>9.3</td>\n",
       "    </tr>\n",
       "    <tr>\n",
       "      <th>3</th>\n",
       "      <td>151.5</td>\n",
       "      <td>41.3</td>\n",
       "      <td>58.5</td>\n",
       "      <td>18.5</td>\n",
       "    </tr>\n",
       "    <tr>\n",
       "      <th>4</th>\n",
       "      <td>180.8</td>\n",
       "      <td>10.8</td>\n",
       "      <td>58.4</td>\n",
       "      <td>12.9</td>\n",
       "    </tr>\n",
       "    <tr>\n",
       "      <th>...</th>\n",
       "      <td>...</td>\n",
       "      <td>...</td>\n",
       "      <td>...</td>\n",
       "      <td>...</td>\n",
       "    </tr>\n",
       "    <tr>\n",
       "      <th>195</th>\n",
       "      <td>38.2</td>\n",
       "      <td>3.7</td>\n",
       "      <td>13.8</td>\n",
       "      <td>7.6</td>\n",
       "    </tr>\n",
       "    <tr>\n",
       "      <th>196</th>\n",
       "      <td>94.2</td>\n",
       "      <td>4.9</td>\n",
       "      <td>8.1</td>\n",
       "      <td>9.7</td>\n",
       "    </tr>\n",
       "    <tr>\n",
       "      <th>197</th>\n",
       "      <td>177.0</td>\n",
       "      <td>9.3</td>\n",
       "      <td>6.4</td>\n",
       "      <td>12.8</td>\n",
       "    </tr>\n",
       "    <tr>\n",
       "      <th>198</th>\n",
       "      <td>283.6</td>\n",
       "      <td>42.0</td>\n",
       "      <td>66.2</td>\n",
       "      <td>25.5</td>\n",
       "    </tr>\n",
       "    <tr>\n",
       "      <th>199</th>\n",
       "      <td>232.1</td>\n",
       "      <td>8.6</td>\n",
       "      <td>8.7</td>\n",
       "      <td>13.4</td>\n",
       "    </tr>\n",
       "  </tbody>\n",
       "</table>\n",
       "<p>200 rows × 4 columns</p>\n",
       "</div>"
      ],
      "text/plain": [
       "        TV  Radio  Newspaper  Sales\n",
       "0    230.1   37.8       69.2   22.1\n",
       "1     44.5   39.3       45.1   10.4\n",
       "2     17.2   45.9       69.3    9.3\n",
       "3    151.5   41.3       58.5   18.5\n",
       "4    180.8   10.8       58.4   12.9\n",
       "..     ...    ...        ...    ...\n",
       "195   38.2    3.7       13.8    7.6\n",
       "196   94.2    4.9        8.1    9.7\n",
       "197  177.0    9.3        6.4   12.8\n",
       "198  283.6   42.0       66.2   25.5\n",
       "199  232.1    8.6        8.7   13.4\n",
       "\n",
       "[200 rows x 4 columns]"
      ]
     },
     "execution_count": 2,
     "metadata": {},
     "output_type": "execute_result"
    }
   ],
   "source": [
    "data = pd.read_csv(\"publicidad.csv\")\n",
    "data"
   ]
  },
  {
   "cell_type": "code",
   "execution_count": 3,
   "id": "b5ef3629-4585-48f5-b2f0-b43bb718cdd8",
   "metadata": {},
   "outputs": [
    {
     "name": "stdout",
     "output_type": "stream",
     "text": [
      "x1_barra (TV): 147.0425 \n",
      "x2_barra (Radio): 23.264000000000006 \n",
      "y_barra (Sales): 14.0225\n"
     ]
    }
   ],
   "source": [
    "x1_barra = np.mean(data['TV'])\n",
    "x2_barra = np.mean(data['Radio'])\n",
    "y_barra = np.mean(data['Sales'])\n",
    "\n",
    "print(\"x1_barra (TV):\", x1_barra, \"\\nx2_barra (Radio):\", x2_barra, \"\\ny_barra (Sales):\", y_barra)\n"
   ]
  },
  {
   "cell_type": "code",
   "execution_count": 4,
   "id": "ba6c4328-4341-459f-93a7-b28af6edb00b",
   "metadata": {},
   "outputs": [
    {
     "name": "stdout",
     "output_type": "stream",
     "text": [
      "x1_barra (TV): 147.0425 \n",
      "x2_barra (Radio): 23.264000000000006 \n",
      "y_barra (Sales): 14.0225\n"
     ]
    }
   ],
   "source": [
    "x1_barra = np.mean(data['TV'])\n",
    "x2_barra = np.mean(data['Radio'])\n",
    "y_barra = np.mean(data['Sales'])\n",
    "\n",
    "print(\"x1_barra (TV):\", x1_barra, \"\\nx2_barra (Radio):\", x2_barra, \"\\ny_barra (Sales):\", y_barra)\n"
   ]
  },
  {
   "cell_type": "code",
   "execution_count": 5,
   "id": "cab407ec-cefa-49bf-9e9a-a2f0a66f3d07",
   "metadata": {},
   "outputs": [
    {
     "name": "stdout",
     "output_type": "stream",
     "text": [
      "suma_xy1 (TV * Sales) = 482108.34 \n",
      "suma_xy2 (Radio * Sales) = 74126.39\n",
      "suma_x1 (TV) = 29408.5 \n",
      "suma_x2 (Radio) = 4652.8\n",
      "suma_x12 (TV^2) = 5791118.39 \n",
      "suma_x22 (Radio^2) = 152107.86\n",
      "suma_x1x2 (TV * Radio) = 698061.98\n"
     ]
    }
   ],
   "source": [
    "suma_xy1 = sum(data['TV'] * data['Sales'])\n",
    "suma_xy2 = sum(data['Radio'] * data['Sales'])\n",
    "suma_x1 = sum(data['TV'])\n",
    "suma_x2 = sum(data['Radio'])\n",
    "suma_x12 = sum(data['TV'] ** 2)\n",
    "suma_x22 = sum(data['Radio'] ** 2)\n",
    "suma_x1x2 = sum(data['TV'] * data['Radio'])\n",
    "\n",
    "print(\"suma_xy1 (TV * Sales) =\", suma_xy1, \"\\nsuma_xy2 (Radio * Sales) =\", suma_xy2)\n",
    "print(\"suma_x1 (TV) =\", suma_x1, \"\\nsuma_x2 (Radio) =\", suma_x2)\n",
    "print(\"suma_x12 (TV^2) =\", suma_x12, \"\\nsuma_x22 (Radio^2) =\", suma_x22)\n",
    "print(\"suma_x1x2 (TV * Radio) =\", suma_x1x2)\n"
   ]
  },
  {
   "cell_type": "code",
   "execution_count": 6,
   "id": "13c1c8be-12d0-4e43-a169-1b3674528054",
   "metadata": {},
   "outputs": [
    {
     "name": "stdout",
     "output_type": "stream",
     "text": [
      "A =\n",
      " [[2.00000000e+02 2.94085000e+04 4.65280000e+03]\n",
      " [2.94085000e+04 5.79111839e+06 6.98061980e+05]\n",
      " [4.65280000e+03 6.98061980e+05 1.52107860e+05]]\n",
      "\n",
      "b = [  2804.5  482108.34  74126.39]\n"
     ]
    }
   ],
   "source": [
    "A = np.array([[len(data), suma_x1, suma_x2],\n",
    "              [suma_x1, suma_x12, suma_x1x2],\n",
    "              [suma_x2, suma_x1x2, suma_x22]])\n",
    "\n",
    "b = np.array([sum(data['Sales']), suma_xy1, suma_xy2])\n",
    "\n",
    "print(\"A =\\n\", A)\n",
    "print(\"\\nb =\", b)\n"
   ]
  },
  {
   "cell_type": "code",
   "execution_count": 7,
   "id": "82134fc9-6f31-4aa8-af1d-88cffc44dd88",
   "metadata": {},
   "outputs": [
    {
     "name": "stdout",
     "output_type": "stream",
     "text": [
      "Coeficientes (a, b1, b2): [2.92109991 0.04575482 0.18799423]\n"
     ]
    }
   ],
   "source": [
    "invA = np.linalg.inv(A)\n",
    "x_sol = np.dot(invA, b.T)\n",
    "print(\"Coeficientes (a, b1, b2):\", x_sol)\n"
   ]
  },
  {
   "cell_type": "code",
   "execution_count": 8,
   "id": "4bff2e94-6d22-4511-b24e-66d31628dff6",
   "metadata": {},
   "outputs": [
    {
     "data": {
      "text/html": [
       "<div>\n",
       "<style scoped>\n",
       "    .dataframe tbody tr th:only-of-type {\n",
       "        vertical-align: middle;\n",
       "    }\n",
       "\n",
       "    .dataframe tbody tr th {\n",
       "        vertical-align: top;\n",
       "    }\n",
       "\n",
       "    .dataframe thead th {\n",
       "        text-align: right;\n",
       "    }\n",
       "</style>\n",
       "<table border=\"1\" class=\"dataframe\">\n",
       "  <thead>\n",
       "    <tr style=\"text-align: right;\">\n",
       "      <th></th>\n",
       "      <th>Coeficientes</th>\n",
       "    </tr>\n",
       "  </thead>\n",
       "  <tbody>\n",
       "    <tr>\n",
       "      <th>TV</th>\n",
       "      <td>0.045755</td>\n",
       "    </tr>\n",
       "    <tr>\n",
       "      <th>Radio</th>\n",
       "      <td>0.187994</td>\n",
       "    </tr>\n",
       "    <tr>\n",
       "      <th>Intercepto</th>\n",
       "      <td>2.921100</td>\n",
       "    </tr>\n",
       "  </tbody>\n",
       "</table>\n",
       "</div>"
      ],
      "text/plain": [
       "            Coeficientes\n",
       "TV              0.045755\n",
       "Radio           0.187994\n",
       "Intercepto      2.921100"
      ]
     },
     "execution_count": 8,
     "metadata": {},
     "output_type": "execute_result"
    }
   ],
   "source": [
    "X = data[[\"TV\", \"Radio\"]]  # Variables independientes\n",
    "y = data[\"Sales\"]  # Variable dependiente\n",
    "\n",
    "rlm = LinearRegression()\n",
    "rlm.fit(X, y)\n",
    "\n",
    "coef1 = pd.DataFrame(rlm.coef_, ['TV', 'Radio'], columns=['Coeficientes'])\n",
    "coef2 = pd.DataFrame(rlm.intercept_, ['Intercepto'], columns=['Coeficientes'])\n",
    "coeficientes = pd.concat([coef1, coef2], axis=0)\n",
    "coeficientes\n"
   ]
  },
  {
   "cell_type": "code",
   "execution_count": null,
   "id": "f53a6852-5c97-41d7-937a-382465dd71ca",
   "metadata": {},
   "outputs": [],
   "source": []
  }
 ],
 "metadata": {
  "kernelspec": {
   "display_name": "Python 3 (ipykernel)",
   "language": "python",
   "name": "python3"
  },
  "language_info": {
   "codemirror_mode": {
    "name": "ipython",
    "version": 3
   },
   "file_extension": ".py",
   "mimetype": "text/x-python",
   "name": "python",
   "nbconvert_exporter": "python",
   "pygments_lexer": "ipython3",
   "version": "3.12.4"
  }
 },
 "nbformat": 4,
 "nbformat_minor": 5
}
