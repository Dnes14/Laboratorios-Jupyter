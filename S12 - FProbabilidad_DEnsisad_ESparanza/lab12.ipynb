{
 "cells": [
  {
   "cell_type": "markdown",
   "metadata": {},
   "source": [
    "# Laboratorio 10: UNCIÓN DE PROBABILIDAD. FUNCIÓN DE DENSIDAD. ESPERANZA MATEMÁTICA\n",
    "\n",
    "## Integrante:\n",
    "\n",
    "- Escriba Flores, Daniel Agustin\n",
    "- Niño de Guzman Rodriguez, Joel Ronald\n",
    "\n",
    "--- "
   ]
  },
  {
   "cell_type": "markdown",
   "metadata": {},
   "source": [
    "# Pregunta 1\n",
    "Se escriben los nombres de 4 hombres y 3 mujeres en pedacitos de papel para luego ser colocados\n",
    "en una caja. Si se extraen al azar los papelitos de la caja uno por uno y sin reemplazo siendo 𝑋 una\n",
    "variable aleatoria que representa el número de papelitos escogidos hasta obtener los nombres de\n",
    "todos los hombres\n",
    "\n",
    "\n",
    "## a. Obtenga y grafique la función de distribución 𝑓(𝑥).\n"
   ]
  },
  {
   "cell_type": "code",
   "execution_count": 1,
   "metadata": {},
   "outputs": [],
   "source": [
    "#Librerias necesarias:\n",
    "import pandas as  pd\n",
    "import numpy as np\n",
    "import math\n",
    "import sympy as sp \n",
    "\n",
    "from sympy import integrate\n",
    "\n",
    "\n",
    "import matplotlib.pyplot as plt\n",
    "plt.style.use('classic')\n"
   ]
  },
  {
   "cell_type": "code",
   "execution_count": 2,
   "metadata": {},
   "outputs": [
    {
     "name": "stdout",
     "output_type": "stream",
     "text": [
      "X= [4 5 6 7]\n"
     ]
    }
   ],
   "source": [
    "# Definimos las variables\n",
    "x = np.array([4,5,6,7])\n",
    "n = len(x)\n",
    "N= 7\n",
    "print(\"X=\",x)"
   ]
  },
  {
   "cell_type": "code",
   "execution_count": 3,
   "metadata": {},
   "outputs": [
    {
     "name": "stdout",
     "output_type": "stream",
     "text": [
      "f(x) = [0.02857143 0.11428571 0.28571429 0.57142857]\n"
     ]
    }
   ],
   "source": [
    "# Hallamos la probabilidades\n",
    "fx = np.zeros(n)\n",
    "for i in range(n):\n",
    "  k = x[i]\n",
    "  fx[i] = math.comb(k-1, 3) / math.comb(7, 4)\n",
    "print(\"f(x) =\", fx)\n"
   ]
  },
  {
   "cell_type": "code",
   "execution_count": 4,
   "metadata": {},
   "outputs": [
    {
     "data": {
      "text/html": [
       "<div>\n",
       "<style scoped>\n",
       "    .dataframe tbody tr th:only-of-type {\n",
       "        vertical-align: middle;\n",
       "    }\n",
       "\n",
       "    .dataframe tbody tr th {\n",
       "        vertical-align: top;\n",
       "    }\n",
       "\n",
       "    .dataframe thead th {\n",
       "        text-align: right;\n",
       "    }\n",
       "</style>\n",
       "<table border=\"1\" class=\"dataframe\">\n",
       "  <thead>\n",
       "    <tr style=\"text-align: right;\">\n",
       "      <th></th>\n",
       "      <th>x</th>\n",
       "      <th>f(x)=P(X=x)</th>\n",
       "    </tr>\n",
       "  </thead>\n",
       "  <tbody>\n",
       "    <tr>\n",
       "      <th>0</th>\n",
       "      <td>4</td>\n",
       "      <td>0.028571</td>\n",
       "    </tr>\n",
       "    <tr>\n",
       "      <th>1</th>\n",
       "      <td>5</td>\n",
       "      <td>0.114286</td>\n",
       "    </tr>\n",
       "    <tr>\n",
       "      <th>2</th>\n",
       "      <td>6</td>\n",
       "      <td>0.285714</td>\n",
       "    </tr>\n",
       "    <tr>\n",
       "      <th>3</th>\n",
       "      <td>7</td>\n",
       "      <td>0.571429</td>\n",
       "    </tr>\n",
       "  </tbody>\n",
       "</table>\n",
       "</div>"
      ],
      "text/plain": [
       "   x  f(x)=P(X=x)\n",
       "0  4     0.028571\n",
       "1  5     0.114286\n",
       "2  6     0.285714\n",
       "3  7     0.571429"
      ]
     },
     "execution_count": 4,
     "metadata": {},
     "output_type": "execute_result"
    }
   ],
   "source": [
    "# Tabla\n",
    "tabla1 =pd.DataFrame({\"x\":x,\"f(x)=P(X=x)\":fx})\n",
    "tabla1"
   ]
  },
  {
   "cell_type": "code",
   "execution_count": 5,
   "metadata": {},
   "outputs": [
    {
     "data": {
      "text/plain": [
       "Text(0.5, 1.0, 'Grafico de f(x)')"
      ]
     },
     "execution_count": 5,
     "metadata": {},
     "output_type": "execute_result"
    },
    {
     "data": {
      "image/png": "[encoded data removed]",
      "text/plain": [
       "<Figure size 640x480 with 1 Axes>"
      ]
     },
     "metadata": {},
     "output_type": "display_data"
    }
   ],
   "source": [
    "# Grafico de f(x)\n",
    "\n",
    "plt.vlines(x,0,fx,colors=\"blue\", lw=5)\n",
    "plt.ylabel(\"x\")\n",
    "plt.ylabel(\"f(x)\")\n",
    "plt.title(\"Grafico de f(x)\")\n"
   ]
  },
  {
   "cell_type": "markdown",
   "metadata": {},
   "source": [
    "\n",
    "## b. Calcule la esperanza, varianza y desviación estándar para la variable aleatoria 𝑋 redondeados con 3 decimales"
   ]
  },
  {
   "cell_type": "code",
   "execution_count": 6,
   "metadata": {},
   "outputs": [
    {
     "name": "stdout",
     "output_type": "stream",
     "text": [
      "6.4\n"
     ]
    }
   ],
   "source": [
    "# Esperanza de X\n",
    "\n",
    "Ex = np.sum(x*fx)\n",
    "Ex=round(Ex,3)\n",
    "print(Ex)"
   ]
  },
  {
   "cell_type": "code",
   "execution_count": 7,
   "metadata": {},
   "outputs": [
    {
     "name": "stdout",
     "output_type": "stream",
     "text": [
      "41.6\n"
     ]
    }
   ],
   "source": [
    "# Esperanza de X^2\n",
    "\n",
    "Ex2 = np.sum(x**2*fx)\n",
    "Ex2=round(Ex2,3)\n",
    "print(Ex2) "
   ]
  },
  {
   "cell_type": "code",
   "execution_count": 8,
   "metadata": {},
   "outputs": [
    {
     "name": "stdout",
     "output_type": "stream",
     "text": [
      "0.64\n"
     ]
    }
   ],
   "source": [
    "# varianza de X\n",
    "\n",
    "Varx = Ex2 - (Ex)**2\n",
    "Varx=round(Varx,3)\n",
    "print(Varx)"
   ]
  },
  {
   "cell_type": "code",
   "execution_count": 9,
   "metadata": {},
   "outputs": [
    {
     "name": "stdout",
     "output_type": "stream",
     "text": [
      "0.8\n"
     ]
    }
   ],
   "source": [
    "\n",
    "DesvX = math.sqrt(Varx)\n",
    "DesvX=round(DesvX,3)\n",
    "print(DesvX)"
   ]
  },
  {
   "cell_type": "markdown",
   "metadata": {},
   "source": [
    "# Pregunta 2\n",
    "\n",
    "Los salarios mensuales, en miles de soles, en cierto país forman una población 𝑋 con función de\n",
    "densidad\n"
   ]
  },
  {
   "cell_type": "code",
   "execution_count": 10,
   "metadata": {},
   "outputs": [
    {
     "data": {
      "image/png": "[encoded data removed]",
      "text/plain": [
       "<IPython.core.display.Image object>"
      ]
     },
     "execution_count": 10,
     "metadata": {},
     "output_type": "execute_result"
    }
   ],
   "source": [
    "from IPython.display import Image\n",
    "Image(\"formula.png\")"
   ]
  },
  {
   "cell_type": "markdown",
   "metadata": {},
   "source": [
    "\n",
    "## a. Obtenga y grafique la función de densidad 𝑓(𝑥).\n"
   ]
  },
  {
   "cell_type": "code",
   "execution_count": 11,
   "metadata": {},
   "outputs": [],
   "source": [
    "\n",
    "from sympy.abc import x\n",
    "\n",
    "y1 = sp.Symbol('a')\n",
    "y1 = 4*x\n",
    "y2 = sp.Symbol('b')\n",
    "y2 = 5-x\n"
   ]
  },
  {
   "cell_type": "code",
   "execution_count": 12,
   "metadata": {},
   "outputs": [
    {
     "data": {
      "text/latex": [
       "$\\displaystyle \\frac{1}{10}$"
      ],
      "text/plain": [
       "1/10"
      ]
     },
     "execution_count": 12,
     "metadata": {},
     "output_type": "execute_result"
    }
   ],
   "source": [
    "I1 = integrate(y1,(x,0,1))\n",
    "I2 = integrate(y2,(x,1,5))\n",
    "\n",
    "c = 1/(I1+I2)\n",
    "c"
   ]
  },
  {
   "cell_type": "code",
   "execution_count": 13,
   "metadata": {},
   "outputs": [
    {
     "name": "stdout",
     "output_type": "stream",
     "text": [
      "f(x) =  2*x/5 ,0<=x<=1\n",
      "f(x) =  1/2 - x/10 ,1<=x<=5\n"
     ]
    }
   ],
   "source": [
    "fx1 = c*y1\n",
    "print(\"f(x) = \", fx1,\",0<=x<=1\")\n",
    "fx2 = c*y2\n",
    "print(\"f(x) = \", fx2,\",1<=x<=5\")\n"
   ]
  },
  {
   "cell_type": "code",
   "execution_count": 14,
   "metadata": {},
   "outputs": [
    {
     "data": {
      "image/png": "[encoded data removed]",
      "text/plain": [
       "<Figure size 640x480 with 1 Axes>"
      ]
     },
     "metadata": {},
     "output_type": "display_data"
    }
   ],
   "source": [
    "x1 = np.linspace(0,1,num=3)\n",
    "x2 = np.linspace(1,5,num=2)\n",
    "\n",
    "plt.plot(x1,[2*x/5 for x in x1],'g', label = 'f(x) = 2*x/5, xE[0,1>',lw=5)\n",
    "plt.plot(x2,[1/2-x/10 for x in x2],'b', label = 'f(x) = 1/2 - x/10, xE[1,5]',lw=5)\n",
    "plt.plot(1,-2,'ro', markersize=5, fillstyle='none',markerfacecolor='w')\n",
    "plt.plot(3,4,'mo', markersize=5, fillstyle='none',markerfacecolor='w')\n",
    "plt.legend(loc='upper left',ncol=1)\n",
    "plt.title(\"Grafico de f(x)\")\n",
    "plt.grid()\n",
    "plt.show()"
   ]
  },
  {
   "cell_type": "markdown",
   "metadata": {},
   "source": [
    "### b. Calcule la esperanza, varianza y desviación estándar para la variable aleatoria 𝑋 redondeados con 3 decimales."
   ]
  },
  {
   "cell_type": "code",
   "execution_count": 15,
   "metadata": {},
   "outputs": [
    {
     "data": {
      "text/latex": [
       "$\\displaystyle 2.0$"
      ],
      "text/plain": [
       "2.00000000000000"
      ]
     },
     "execution_count": 15,
     "metadata": {},
     "output_type": "execute_result"
    }
   ],
   "source": [
    "Ex = (integrate(x*2*x/5,(x,0,1)))+(integrate(x*(1/2-x/10) ,(x,1,5)))\n",
    "Ex"
   ]
  },
  {
   "cell_type": "code",
   "execution_count": 16,
   "metadata": {},
   "outputs": [
    {
     "data": {
      "text/latex": [
       "$\\displaystyle 5.167$"
      ],
      "text/plain": [
       "5.167"
      ]
     },
     "execution_count": 16,
     "metadata": {},
     "output_type": "execute_result"
    }
   ],
   "source": [
    "# Esperanza de X^2\n",
    "\n",
    "Ex2 = (integrate(x**2*2*x/5,(x,0,1)))+(integrate(x**2*(1/2-x/10) ,(x,1,5)))\n",
    "Ex2 = round(Ex2,3)\n",
    "Ex2"
   ]
  },
  {
   "cell_type": "code",
   "execution_count": 17,
   "metadata": {},
   "outputs": [
    {
     "name": "stdout",
     "output_type": "stream",
     "text": [
      "1.167\n"
     ]
    }
   ],
   "source": [
    "# varianza de X\n",
    "\n",
    "Varx = Ex2 - (Ex)**2\n",
    "Varx = round(Varx,3)\n",
    "print(Varx)"
   ]
  },
  {
   "cell_type": "code",
   "execution_count": 18,
   "metadata": {},
   "outputs": [
    {
     "name": "stdout",
     "output_type": "stream",
     "text": [
      "1.08\n"
     ]
    }
   ],
   "source": [
    "# Desviacion estandar de X\n",
    "\n",
    "DesvX = math.sqrt(Varx)\n",
    "DesvX=round(DesvX,3)\n",
    "print(DesvX)"
   ]
  }
 ],
 "metadata": {
  "kernelspec": {
   "display_name": "Lab-MACD",
   "language": "python",
   "name": "python3"
  },
  "language_info": {
   "codemirror_mode": {
    "name": "ipython",
    "version": 3
   },
   "file_extension": ".py",
   "mimetype": "text/x-python",
   "name": "python",
   "nbconvert_exporter": "python",
   "pygments_lexer": "ipython3",
   "version": "3.12.6"
  }
 },
 "nbformat": 4,
 "nbformat_minor": 2
}
