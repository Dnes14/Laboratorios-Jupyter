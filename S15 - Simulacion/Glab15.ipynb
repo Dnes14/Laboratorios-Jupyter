{
 "cells": [
  {
   "cell_type": "code",
   "execution_count": 1,
   "metadata": {},
   "outputs": [],
   "source": [
    "import pandas as pd \n",
    "import numpy as np \n",
    "from scipy import stats\n",
    "import random "
   ]
  },
  {
   "cell_type": "markdown",
   "metadata": {},
   "source": [
    "## Caso Discreto\n",
    "\n",
    "Si X es el numero de clientes de un total de 5, que alquilan automoviles de tipo A en un tienda y la probabilidad de que cualquier cliente alquile un auto de este tipo es 0.7\n",
    "\n",
    "a. Determine la funcion de distribucion de la variable aleatoria X.   \n",
    "b. Simule dicho evento  5 veces con 5 valores aleatorios u~U[0,1]."
   ]
  },
  {
   "cell_type": "code",
   "execution_count": 2,
   "metadata": {},
   "outputs": [],
   "source": [
    "# Defenimos los parametros para la variable X.\n",
    "# X ~ B(5,0.7)\n",
    "\n",
    "n=5\n",
    "p=0.7\n"
   ]
  },
  {
   "cell_type": "markdown",
   "metadata": {},
   "source": [
    "Definimos con el método ‘.binom( )’ a la variable aleatoria con distribución binomial. Luego,\n",
    "generamos un vector con todos los valores posibles para 𝑥 con el método ‘.arange( )’. Con el\n",
    "método ‘.pmf( )’ aplicado a la variable aleatoria que se generó (‘fd’), evaluamos a 𝑓(𝑥) en cada\n",
    "valor para 𝑥 y con el método ‘.cdf( )’ aplicado a la variable aleatoria que se generó (‘fd’), evaluamos\n",
    "a 𝐹(𝑥) en cada valor para 𝑥. Para mostrar ambos resultados, hacemos uso de la función ‘print( )’.\n"
   ]
  },
  {
   "cell_type": "code",
   "execution_count": 3,
   "metadata": {},
   "outputs": [
    {
     "name": "stdout",
     "output_type": "stream",
     "text": [
      "x =  [0 1 2 3 4 5]\n"
     ]
    }
   ],
   "source": [
    "# hallando f(x) y F(x)\n",
    "\n",
    "fd = stats.binom(n,p)\n",
    "x = np.arange(0,n+1)\n",
    "\n",
    "print(\"x = \",x)"
   ]
  },
  {
   "cell_type": "code",
   "execution_count": 4,
   "metadata": {},
   "outputs": [
    {
     "name": "stdout",
     "output_type": "stream",
     "text": [
      "f(x) =  [0.00243 0.02835 0.1323  0.3087  0.36015 0.16807]\n",
      "F(x) =  [0.00243 0.03078 0.16308 0.47178 0.83193 1.     ]\n"
     ]
    }
   ],
   "source": [
    "fx = fd.pmf(x)\n",
    "print(\"f(x) = \",fx)\n",
    "Fx = fd.cdf(x)\n",
    "print(\"F(x) = \",Fx)"
   ]
  },
  {
   "cell_type": "code",
   "execution_count": 5,
   "metadata": {},
   "outputs": [
    {
     "data": {
      "text/html": [
       "<div>\n",
       "<style scoped>\n",
       "    .dataframe tbody tr th:only-of-type {\n",
       "        vertical-align: middle;\n",
       "    }\n",
       "\n",
       "    .dataframe tbody tr th {\n",
       "        vertical-align: top;\n",
       "    }\n",
       "\n",
       "    .dataframe thead th {\n",
       "        text-align: right;\n",
       "    }\n",
       "</style>\n",
       "<table border=\"1\" class=\"dataframe\">\n",
       "  <thead>\n",
       "    <tr style=\"text-align: right;\">\n",
       "      <th></th>\n",
       "      <th>x</th>\n",
       "      <th>f(x)=P(X=x)</th>\n",
       "      <th>F(x)=P(X&lt;=x)</th>\n",
       "    </tr>\n",
       "  </thead>\n",
       "  <tbody>\n",
       "    <tr>\n",
       "      <th>0</th>\n",
       "      <td>0</td>\n",
       "      <td>0.00243</td>\n",
       "      <td>0.00243</td>\n",
       "    </tr>\n",
       "    <tr>\n",
       "      <th>1</th>\n",
       "      <td>1</td>\n",
       "      <td>0.02835</td>\n",
       "      <td>0.03078</td>\n",
       "    </tr>\n",
       "    <tr>\n",
       "      <th>2</th>\n",
       "      <td>2</td>\n",
       "      <td>0.13230</td>\n",
       "      <td>0.16308</td>\n",
       "    </tr>\n",
       "    <tr>\n",
       "      <th>3</th>\n",
       "      <td>3</td>\n",
       "      <td>0.30870</td>\n",
       "      <td>0.47178</td>\n",
       "    </tr>\n",
       "    <tr>\n",
       "      <th>4</th>\n",
       "      <td>4</td>\n",
       "      <td>0.36015</td>\n",
       "      <td>0.83193</td>\n",
       "    </tr>\n",
       "    <tr>\n",
       "      <th>5</th>\n",
       "      <td>5</td>\n",
       "      <td>0.16807</td>\n",
       "      <td>1.00000</td>\n",
       "    </tr>\n",
       "  </tbody>\n",
       "</table>\n",
       "</div>"
      ],
      "text/plain": [
       "   x  f(x)=P(X=x)  F(x)=P(X<=x)\n",
       "0  0      0.00243       0.00243\n",
       "1  1      0.02835       0.03078\n",
       "2  2      0.13230       0.16308\n",
       "3  3      0.30870       0.47178\n",
       "4  4      0.36015       0.83193\n",
       "5  5      0.16807       1.00000"
      ]
     },
     "execution_count": 5,
     "metadata": {},
     "output_type": "execute_result"
    }
   ],
   "source": [
    "tabla =pd.DataFrame({\"x\":x,\"f(x)=P(X=x)\":fx,\"F(x)=P(X<=x)\":Fx})\n",
    "tabla"
   ]
  },
  {
   "cell_type": "code",
   "execution_count": 7,
   "metadata": {},
   "outputs": [
    {
     "name": "stdout",
     "output_type": "stream",
     "text": [
      "[0.36028964 0.58863657 0.69933216 0.85220701 0.95123199]\n"
     ]
    }
   ],
   "source": [
    "m=5 \n",
    "u=np.zeros(m)\n",
    "\n",
    "for i in range(m):\n",
    "    u[i]=random.uniform(0,1)\t\n",
    "\n",
    "print(u)"
   ]
  },
  {
   "cell_type": "code",
   "execution_count": 8,
   "metadata": {},
   "outputs": [
    {
     "name": "stdout",
     "output_type": "stream",
     "text": [
      "[3. 4. 4. 5. 5.]\n"
     ]
    }
   ],
   "source": [
    "x_sim = np.zeros(m)\n",
    "\n",
    "for i in range(m):\n",
    "    x_sim[i]=fd.ppf(u[i])\n",
    "\n",
    "print(x_sim)"
   ]
  },
  {
   "cell_type": "code",
   "execution_count": 12,
   "metadata": {},
   "outputs": [
    {
     "data": {
      "text/plain": [
       "array([3., 4., 4., 5., 5.])"
      ]
     },
     "execution_count": 12,
     "metadata": {},
     "output_type": "execute_result"
    }
   ],
   "source": [
    "x_sim = np.zeros(m)\n",
    "\n",
    "for j  in range(m):\n",
    "    for i in range(0,n+1):\n",
    "        if (u[j]>Fx[i])and (u[j]<=Fx[i+1]):\n",
    "            x_sim[j]=i+1\n",
    "x_sim\t"
   ]
  },
  {
   "cell_type": "markdown",
   "metadata": {},
   "source": [
    "Para el caso continuo"
   ]
  },
  {
   "cell_type": "code",
   "execution_count": 13,
   "metadata": {},
   "outputs": [],
   "source": [
    "from sympy import integrate\n",
    "from sympy.abc import x\n",
    "from sympy import exp \n",
    "import math"
   ]
  },
  {
   "cell_type": "code",
   "execution_count": 30,
   "metadata": {},
   "outputs": [
    {
     "data": {
      "text/latex": [
       "$\\displaystyle 0.2 e^{- \\frac{x}{5}}$"
      ],
      "text/plain": [
       "0.2*exp(-x/5)"
      ]
     },
     "execution_count": 30,
     "metadata": {},
     "output_type": "execute_result"
    }
   ],
   "source": [
    "fx = (1/5)*(exp(-x/5))\n",
    "fx"
   ]
  },
  {
   "cell_type": "code",
   "execution_count": 31,
   "metadata": {},
   "outputs": [
    {
     "data": {
      "text/latex": [
       "$\\displaystyle 1.0 - 1.0 e^{- \\frac{x}{5}}$"
      ],
      "text/plain": [
       "1.0 - 1.0*exp(-x/5)"
      ]
     },
     "execution_count": 31,
     "metadata": {},
     "output_type": "execute_result"
    }
   ],
   "source": [
    "Fx = integrate(fx,(x,0,x))\n",
    "Fx"
   ]
  },
  {
   "cell_type": "code",
   "execution_count": 32,
   "metadata": {},
   "outputs": [
    {
     "data": {
      "text/latex": [
       "$\\displaystyle 5.0 \\log{\\left(- \\frac{1}{U - 1.0} \\right)}$"
      ],
      "text/plain": [
       "5.0*log(-1/(U - 1.0))"
      ]
     },
     "execution_count": 32,
     "metadata": {},
     "output_type": "execute_result"
    }
   ],
   "source": [
    "from sympy import symbols, solve, Eq\n",
    "U=symbols('U')\n",
    "sol= solve(Eq(U,Fx),x)[0]\n",
    "sol"
   ]
  },
  {
   "cell_type": "code",
   "execution_count": 33,
   "metadata": {},
   "outputs": [
    {
     "name": "stdout",
     "output_type": "stream",
     "text": [
      "[0.52643027 0.54815119 0.98206262 0.01554721 0.86642403]\n"
     ]
    }
   ],
   "source": [
    "m = 5\n",
    "u = np.zeros(m)\n",
    "for i in range(m):\n",
    "    u[i] = random.uniform(0,1)\n",
    "print(u)"
   ]
  },
  {
   "cell_type": "code",
   "execution_count": 34,
   "metadata": {},
   "outputs": [
    {
     "name": "stdout",
     "output_type": "stream",
     "text": [
      "[ 3.73728056  3.97203823 20.10434288  0.07834669 10.06542462]\n"
     ]
    }
   ],
   "source": [
    "x_sim = np.zeros(m)\n",
    "\n",
    "for i in range(m):\n",
    "    x_sim[i] = sol.subs(U, u[i])\n",
    "print(x_sim)"
   ]
  },
  {
   "cell_type": "code",
   "execution_count": 35,
   "metadata": {},
   "outputs": [
    {
     "name": "stdout",
     "output_type": "stream",
     "text": [
      "[ 3.73728056  3.97203823 20.10434288  0.07834669 10.06542462]\n"
     ]
    }
   ],
   "source": [
    "x_sim = np.zeros(m)\n",
    "\n",
    "for i in range(m):\n",
    "    x_sim[i] = 5*math.log(1/(1-u[i]))\n",
    "print(x_sim)"
   ]
  }
 ],
 "metadata": {
  "kernelspec": {
   "display_name": "ENMACD",
   "language": "python",
   "name": "python3"
  },
  "language_info": {
   "codemirror_mode": {
    "name": "ipython",
    "version": 3
   },
   "file_extension": ".py",
   "mimetype": "text/x-python",
   "name": "python",
   "nbconvert_exporter": "python",
   "pygments_lexer": "ipython3",
   "version": "3.13.0"
  }
 },
 "nbformat": 4,
 "nbformat_minor": 2
}
