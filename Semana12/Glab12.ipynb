{
 "cells": [
  {
   "cell_type": "code",
   "execution_count": 15,
   "metadata": {},
   "outputs": [],
   "source": [
    "#Librerias necesarias:\n",
    "import pandas as  pd\n",
    "import numpy as np\n",
    "import math\n",
    "import sympy as sp \n",
    "\n",
    "from sympy import integrate\n",
    "\n",
    "\n",
    "import matplotlib.pyplot as plt\n",
    "plt.style.use('classic')\n"
   ]
  },
  {
   "cell_type": "code",
   "execution_count": null,
   "metadata": {},
   "outputs": [
    {
     "name": "stdout",
     "output_type": "stream",
     "text": [
      "X= [4 5 6 7]\n"
     ]
    }
   ],
   "source": [
    "x = np.array([0,1,2,3,4])\n",
    "n = len(x)\n",
    "print(\"X=\",x)"
   ]
  },
  {
   "cell_type": "code",
   "execution_count": 4,
   "metadata": {},
   "outputs": [
    {
     "name": "stdout",
     "output_type": "stream",
     "text": [
      "F(x)= [0.0625 0.25   0.375  0.25   0.0625]\n"
     ]
    }
   ],
   "source": [
    "fx =np.zeros(n)\n",
    "for i in range(n):\n",
    "    fx[i] = math.comb(n-1,i)*((1/2)**4)\n",
    "print(\"F(x)=\",fx)"
   ]
  },
  {
   "cell_type": "code",
   "execution_count": 5,
   "metadata": {},
   "outputs": [
    {
     "data": {
      "text/html": [
       "<div>\n",
       "<style scoped>\n",
       "    .dataframe tbody tr th:only-of-type {\n",
       "        vertical-align: middle;\n",
       "    }\n",
       "\n",
       "    .dataframe tbody tr th {\n",
       "        vertical-align: top;\n",
       "    }\n",
       "\n",
       "    .dataframe thead th {\n",
       "        text-align: right;\n",
       "    }\n",
       "</style>\n",
       "<table border=\"1\" class=\"dataframe\">\n",
       "  <thead>\n",
       "    <tr style=\"text-align: right;\">\n",
       "      <th></th>\n",
       "      <th>x</th>\n",
       "      <th>f(x)=P(X=x)</th>\n",
       "    </tr>\n",
       "  </thead>\n",
       "  <tbody>\n",
       "    <tr>\n",
       "      <th>0</th>\n",
       "      <td>0</td>\n",
       "      <td>0.0625</td>\n",
       "    </tr>\n",
       "    <tr>\n",
       "      <th>1</th>\n",
       "      <td>1</td>\n",
       "      <td>0.2500</td>\n",
       "    </tr>\n",
       "    <tr>\n",
       "      <th>2</th>\n",
       "      <td>2</td>\n",
       "      <td>0.3750</td>\n",
       "    </tr>\n",
       "    <tr>\n",
       "      <th>3</th>\n",
       "      <td>3</td>\n",
       "      <td>0.2500</td>\n",
       "    </tr>\n",
       "    <tr>\n",
       "      <th>4</th>\n",
       "      <td>4</td>\n",
       "      <td>0.0625</td>\n",
       "    </tr>\n",
       "  </tbody>\n",
       "</table>\n",
       "</div>"
      ],
      "text/plain": [
       "   x  f(x)=P(X=x)\n",
       "0  0       0.0625\n",
       "1  1       0.2500\n",
       "2  2       0.3750\n",
       "3  3       0.2500\n",
       "4  4       0.0625"
      ]
     },
     "execution_count": 5,
     "metadata": {},
     "output_type": "execute_result"
    }
   ],
   "source": [
    "tabla1 =pd.DataFrame({\"x\":x,\"f(x)=P(X=x)\":fx})\n",
    "tabla1"
   ]
  },
  {
   "cell_type": "code",
   "execution_count": 6,
   "metadata": {},
   "outputs": [
    {
     "data": {
      "text/plain": [
       "Text(0.5, 1.0, 'Grafico de f(x)')"
      ]
     },
     "execution_count": 6,
     "metadata": {},
     "output_type": "execute_result"
    },
    {
     "data": {
      "image/png": "[encoded data removed]",
      "text/plain": [
       "<Figure size 640x480 with 1 Axes>"
      ]
     },
     "metadata": {},
     "output_type": "display_data"
    }
   ],
   "source": [
    "# Grafico de f(x)\n",
    "\n",
    "plt.vlines(x,0,fx,colors=\"blue\", lw=5)\n",
    "plt.ylabel(\"x\")\n",
    "plt.ylabel(\"f(x)\")\n",
    "plt.title(\"Grafico de f(x)\")"
   ]
  },
  {
   "cell_type": "code",
   "execution_count": 7,
   "metadata": {},
   "outputs": [
    {
     "data": {
      "text/plain": [
       "np.float64(2.0)"
      ]
     },
     "execution_count": 7,
     "metadata": {},
     "output_type": "execute_result"
    }
   ],
   "source": [
    "# Esperanza de X\n",
    "\n",
    "Ex = np.sum(x*fx)\n",
    "Ex=round(Ex,1)\n",
    "Ex"
   ]
  },
  {
   "cell_type": "code",
   "execution_count": 8,
   "metadata": {},
   "outputs": [
    {
     "data": {
      "text/plain": [
       "np.float64(5.0)"
      ]
     },
     "execution_count": 8,
     "metadata": {},
     "output_type": "execute_result"
    }
   ],
   "source": [
    "# Esperanza de X^2\n",
    "\n",
    "Ex2 = np.sum(x**2*fx)\n",
    "Ex2=round(Ex2,1)\n",
    "Ex2 "
   ]
  },
  {
   "cell_type": "code",
   "execution_count": 10,
   "metadata": {},
   "outputs": [
    {
     "name": "stdout",
     "output_type": "stream",
     "text": [
      "1.0\n"
     ]
    }
   ],
   "source": [
    "# varianza de X\n",
    "\n",
    "Varx = Ex2 - (Ex)**2\n",
    "Varx=round(Varx,1)\n",
    "print(Varx)"
   ]
  },
  {
   "cell_type": "code",
   "execution_count": 11,
   "metadata": {},
   "outputs": [
    {
     "name": "stdout",
     "output_type": "stream",
     "text": [
      "1.0\n"
     ]
    }
   ],
   "source": [
    "# Desviacion estandar de X\n",
    "\n",
    "DesvX = math.sqrt(Varx)\n",
    "DesvX=round(DesvX,1)\n",
    "print(DesvX)"
   ]
  },
  {
   "cell_type": "code",
   "execution_count": 33,
   "metadata": {},
   "outputs": [],
   "source": [
    "\n",
    "from sympy.abc import x\n",
    "\n",
    "y1 = sp.Symbol('a')\n",
    "y1 = x\n",
    "y2 = sp.Symbol('b')\n",
    "y2 = 1\n",
    "y3 = sp.Symbol('c')\n",
    "y3 = 3-x\n"
   ]
  },
  {
   "cell_type": "code",
   "execution_count": 34,
   "metadata": {},
   "outputs": [
    {
     "data": {
      "text/latex": [
       "$\\displaystyle \\frac{1}{2}$"
      ],
      "text/plain": [
       "1/2"
      ]
     },
     "execution_count": 34,
     "metadata": {},
     "output_type": "execute_result"
    }
   ],
   "source": [
    "I1 = integrate(y1,(x,0,1))\n",
    "I2 = integrate(y2,(x,1,2))\n",
    "I3 = integrate(y3,(x,2,3))\n",
    "c = 1/(I1+I2+I3)\n",
    "c"
   ]
  },
  {
   "cell_type": "code",
   "execution_count": 36,
   "metadata": {},
   "outputs": [
    {
     "name": "stdout",
     "output_type": "stream",
     "text": [
      "f(x) =  x/2 ,0<=x<=1\n",
      "f(x) =  1/2 ,1<=x<=2\n",
      "f(x) =  3/2 - x/2 ,2<=x<=3\n"
     ]
    }
   ],
   "source": [
    "fx1 = c*y1\n",
    "print(\"f(x) = \", fx1,\",0<=x<=1\")\n",
    "fx2 = c*y2\n",
    "print(\"f(x) = \", fx2,\",1<=x<=2\")\n",
    "fx3 = c*y3\n",
    "print(\"f(x) = \", fx3,\",2<=x<=3\")"
   ]
  },
  {
   "cell_type": "code",
   "execution_count": 37,
   "metadata": {},
   "outputs": [
    {
     "data": {
      "image/png": "[encoded data removed]",
      "text/plain": [
       "<Figure size 640x480 with 1 Axes>"
      ]
     },
     "metadata": {},
     "output_type": "display_data"
    }
   ],
   "source": [
    "x1 = np.linspace(0,1,num=3)\n",
    "x2 = np.linspace(1,2,num=2)\n",
    "x3 = np.linspace(2,3,num=3)\n",
    "plt.plot(x1,[x/2 for x in x1],'g', label = 'f(x) = x/2, xE[0,1>',lw=5)\n",
    "plt.plot(x2,[1/2 for x in x2],'b', label = 'f(x) = 1/2, xE[1,2>',lw=5)\n",
    "plt.plot(x3,[(3-x)/2 for x in x3],'r', label = 'f(x) = (3-x)/2, xE[2,3>',lw=5)\n",
    "plt.plot(1,-2,'ro', markersize=5, fillstyle='none',markerfacecolor='w')\n",
    "plt.plot(3,4,'mo', markersize=5, fillstyle='none',markerfacecolor='w')\n",
    "plt.legend(loc='upper left',ncol=1)\n",
    "plt.title(\"Grafico de f(x)\")\n",
    "plt.grid()\n",
    "plt.show()\n"
   ]
  },
  {
   "cell_type": "code",
   "execution_count": 25,
   "metadata": {},
   "outputs": [
    {
     "data": {
      "text/latex": [
       "$\\displaystyle 1.5$"
      ],
      "text/plain": [
       "1.50000000000000"
      ]
     },
     "execution_count": 25,
     "metadata": {},
     "output_type": "execute_result"
    }
   ],
   "source": [
    "# Esperanza de X\n",
    "\n",
    "Ex = (integrate(x*(x/2),(x,0,1)))+(integrate(x*(1/2),(x,1,2)))+(integrate(x*(3-x)/2,(x,2,3)))\n",
    "Ex"
   ]
  },
  {
   "cell_type": "code",
   "execution_count": 26,
   "metadata": {},
   "outputs": [
    {
     "data": {
      "text/latex": [
       "$\\displaystyle 2.7$"
      ],
      "text/plain": [
       "2.7"
      ]
     },
     "execution_count": 26,
     "metadata": {},
     "output_type": "execute_result"
    }
   ],
   "source": [
    "# Esperanza de X^2\n",
    "\n",
    "Ex2 = (integrate(x**2*(x/2),(x,0,1)))+(integrate(x**2*(1/2),(x,1,2)))+(integrate(x**2*(3-x)/2,(x,2,3)))\n",
    "Ex2 = round(Ex2,1)\n",
    "Ex2"
   ]
  },
  {
   "cell_type": "code",
   "execution_count": 27,
   "metadata": {},
   "outputs": [
    {
     "name": "stdout",
     "output_type": "stream",
     "text": [
      "0.449\n"
     ]
    }
   ],
   "source": [
    "# varianza de X\n",
    "\n",
    "Varx = Ex2 - (Ex)**2\n",
    "Varx = round(Varx,3)\n",
    "print(Varx)"
   ]
  },
  {
   "cell_type": "code",
   "execution_count": 28,
   "metadata": {},
   "outputs": [
    {
     "name": "stdout",
     "output_type": "stream",
     "text": [
      "0.67\n"
     ]
    }
   ],
   "source": [
    "# Desviacion estandar de X\n",
    "\n",
    "DesvX = math.sqrt(Varx)\n",
    "DesvX=round(DesvX,3)\n",
    "print(DesvX)"
   ]
  }
 ],
 "metadata": {
  "kernelspec": {
   "display_name": "Lab-MACD",
   "language": "python",
   "name": "python3"
  },
  "language_info": {
   "codemirror_mode": {
    "name": "ipython",
    "version": 3
   },
   "file_extension": ".py",
   "mimetype": "text/x-python",
   "name": "python",
   "nbconvert_exporter": "python",
   "pygments_lexer": "ipython3",
   "version": "3.12.6"
  }
 },
 "nbformat": 4,
 "nbformat_minor": 2
}
