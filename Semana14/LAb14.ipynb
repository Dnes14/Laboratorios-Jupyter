{
 "cells": [
  {
   "cell_type": "markdown",
   "metadata": {},
   "source": [
    "# Laboratorio 14: DISTRIBUCIÓN BIVARIADA. DISTRIBUCIÓN MARGINAL. DISTRIBUCIÓN CONDICIONAL\n",
    "\n",
    "## Integrante:\n",
    "\n",
    "- Aranda Huerta, Milene Natalia\n",
    "- Escriba Flores, Daniel Agustin\n",
    "\n",
    "--- "
   ]
  },
  {
   "cell_type": "code",
   "execution_count": 1,
   "metadata": {},
   "outputs": [],
   "source": [
    "# Importamos las librerias necesarias\n",
    "\n",
    "import pandas as pd \n",
    "import numpy as np \n",
    "import math "
   ]
  },
  {
   "cell_type": "markdown",
   "metadata": {},
   "source": [
    "--- \n",
    "## Pregunta 1: \n",
    "\n",
    "Se selecciona al azar dos libros de texto de un anaquel que contiene tres libros de estadística, dos de matemáticas y tres de física. Si 𝑋 es el número de libros de estadística e 𝑌 es el número de libros de matemáticas realmente escogidos. En un notebook de Jupyter y utilizando las librerías ‘pandas’ y ‘numpy’, y la librería ‘math’, haga lo siguiente:\n",
    "\n",
    "### a. Halle la función de distribución conjunta de 𝑋 e 𝑌"
   ]
  },
  {
   "cell_type": "code",
   "execution_count": 2,
   "metadata": {},
   "outputs": [
    {
     "name": "stdout",
     "output_type": "stream",
     "text": [
      "X= [0 0 1 1 2 0]\n",
      "Y= [0 1 0 1 0 2]\n",
      "Z= [2 1 1 0 0 0]\n"
     ]
    }
   ],
   "source": [
    "x = np.array([0,0,1,1,2,0])\n",
    "print(\"X=\",x)\n",
    "y = np.array([0,1,0,1,0,2])\n",
    "print(\"Y=\",y)\n",
    "z = np.array([2,1,1,0,0,0])\n",
    "print(\"Z=\",z) "
   ]
  },
  {
   "cell_type": "code",
   "execution_count": 3,
   "metadata": {},
   "outputs": [
    {
     "name": "stdout",
     "output_type": "stream",
     "text": [
      "Total maneras = 28\n"
     ]
    }
   ],
   "source": [
    "# Definimos los valores\n",
    "\n",
    "E, M, F = 3, 2, 3\n",
    "T = E+M+F\n",
    "n = math.comb(T,2) # Combinaciones de T en 2\n",
    "print(\"Total maneras =\",n)\n",
    "p = len(x)\n"
   ]
  },
  {
   "cell_type": "code",
   "execution_count": 4,
   "metadata": {},
   "outputs": [
    {
     "name": "stdout",
     "output_type": "stream",
     "text": [
      "[3. 6. 9. 6. 3. 1.]\n"
     ]
    }
   ],
   "source": [
    "# Hallamos las maneras de cada situacion\n",
    "\n",
    "Maneras = np.zeros(p)\n",
    "for i in range(p):\n",
    "    Maneras[i] = math.comb(E,x[i]) * math.comb(M,y[i]) * math.comb(F,z[i])\n",
    "print(Maneras)"
   ]
  },
  {
   "cell_type": "code",
   "execution_count": 5,
   "metadata": {},
   "outputs": [
    {
     "name": "stdout",
     "output_type": "stream",
     "text": [
      "f(x,y)= [0.10714286 0.21428571 0.32142857 0.21428571 0.10714286 0.03571429]\n"
     ]
    }
   ],
   "source": [
    "fxy = Maneras/n\n",
    "\n",
    "print(\"f(x,y)=\",fxy)\n"
   ]
  },
  {
   "cell_type": "code",
   "execution_count": 6,
   "metadata": {},
   "outputs": [
    {
     "data": {
      "text/html": [
       "<div>\n",
       "<style scoped>\n",
       "    .dataframe tbody tr th:only-of-type {\n",
       "        vertical-align: middle;\n",
       "    }\n",
       "\n",
       "    .dataframe tbody tr th {\n",
       "        vertical-align: top;\n",
       "    }\n",
       "\n",
       "    .dataframe thead th {\n",
       "        text-align: right;\n",
       "    }\n",
       "</style>\n",
       "<table border=\"1\" class=\"dataframe\">\n",
       "  <thead>\n",
       "    <tr style=\"text-align: right;\">\n",
       "      <th></th>\n",
       "      <th>X</th>\n",
       "      <th>Y</th>\n",
       "      <th>f(x,y)</th>\n",
       "    </tr>\n",
       "  </thead>\n",
       "  <tbody>\n",
       "    <tr>\n",
       "      <th>0</th>\n",
       "      <td>0</td>\n",
       "      <td>0</td>\n",
       "      <td>0.107143</td>\n",
       "    </tr>\n",
       "    <tr>\n",
       "      <th>1</th>\n",
       "      <td>0</td>\n",
       "      <td>1</td>\n",
       "      <td>0.214286</td>\n",
       "    </tr>\n",
       "    <tr>\n",
       "      <th>2</th>\n",
       "      <td>1</td>\n",
       "      <td>0</td>\n",
       "      <td>0.321429</td>\n",
       "    </tr>\n",
       "    <tr>\n",
       "      <th>3</th>\n",
       "      <td>1</td>\n",
       "      <td>1</td>\n",
       "      <td>0.214286</td>\n",
       "    </tr>\n",
       "    <tr>\n",
       "      <th>4</th>\n",
       "      <td>2</td>\n",
       "      <td>0</td>\n",
       "      <td>0.107143</td>\n",
       "    </tr>\n",
       "    <tr>\n",
       "      <th>5</th>\n",
       "      <td>0</td>\n",
       "      <td>2</td>\n",
       "      <td>0.035714</td>\n",
       "    </tr>\n",
       "  </tbody>\n",
       "</table>\n",
       "</div>"
      ],
      "text/plain": [
       "   X  Y    f(x,y)\n",
       "0  0  0  0.107143\n",
       "1  0  1  0.214286\n",
       "2  1  0  0.321429\n",
       "3  1  1  0.214286\n",
       "4  2  0  0.107143\n",
       "5  0  2  0.035714"
      ]
     },
     "execution_count": 6,
     "metadata": {},
     "output_type": "execute_result"
    }
   ],
   "source": [
    "# Funcion de distribucion conjunta\n",
    "tabla = pd.DataFrame({\"X\":x,\"Y\":y,\"f(x,y)\":fxy})\n",
    "tabla"
   ]
  },
  {
   "cell_type": "markdown",
   "metadata": {},
   "source": [
    "###  B. Halle la función de distribución marginal de 𝑋 = 1"
   ]
  },
  {
   "cell_type": "code",
   "execution_count": 7,
   "metadata": {},
   "outputs": [
    {
     "name": "stdout",
     "output_type": "stream",
     "text": [
      "0.5357\n"
     ]
    }
   ],
   "source": [
    "# Funcion de distribucion marginal x=1\n",
    "s=0\n",
    "for i in range(p):\n",
    "    if x[i]==1:\n",
    "        s=s+fxy[i]\n",
    "fx1 = round(s,4)\n",
    "print(fx1)"
   ]
  },
  {
   "cell_type": "markdown",
   "metadata": {},
   "source": [
    "$f_1(1)=0.5357$"
   ]
  },
  {
   "cell_type": "markdown",
   "metadata": {},
   "source": [
    "###  C. Halle la función de distribución condicional de 𝑌 dado 𝑋 = 1."
   ]
  },
  {
   "cell_type": "code",
   "execution_count": 8,
   "metadata": {},
   "outputs": [
    {
     "name": "stdout",
     "output_type": "stream",
     "text": [
      "[0.600016   0.40001067 0.        ]\n"
     ]
    }
   ],
   "source": [
    "# Funcion de distribucion condicional de y dado x=1\n",
    "fy_x = (np.delete(fxy,(0,1,4,5)))/fx1\n",
    "fy_x = np.append(fy_x,0)\n",
    "print(fy_x)"
   ]
  },
  {
   "cell_type": "markdown",
   "metadata": {},
   "source": [
    "$f(1|0)=0.60016$  \n",
    "$f(1|1)=0.40001$  \n",
    "$f(1|2)=0$   "
   ]
  },
  {
   "cell_type": "markdown",
   "metadata": {},
   "source": [
    "---\n",
    "## Pregunta 2:\n",
    "\n",
    "Suponga que 𝑋, el precio de cierta mercadería (en soles) e 𝑌, sus ventas totales (en 10 000 unidades), son variables aleatorias, cuya función de distribución conjunta es la mostrada\n",
    "\n",
    "$f(x, y) =\n",
    "\\begin{cases} \n",
    "    5x e^{-0.3y}, & 0.20 < x < 0.40, \\, y > 0 \\\\ \n",
    "    0, & \\text{c.c.}\n",
    "\\end{cases}$"
   ]
  },
  {
   "cell_type": "code",
   "execution_count": 9,
   "metadata": {},
   "outputs": [],
   "source": [
    "# Librerias para este caso\n",
    "\n",
    "from sympy import integrate\n",
    "from sympy.abc import x, y\n",
    "from sympy import exp\n"
   ]
  },
  {
   "cell_type": "markdown",
   "metadata": {},
   "source": [
    "### a. Calcule la probabilidad de que el precio será menos de 30 céntimos y las ventas excedan 20 000 unidades."
   ]
  },
  {
   "cell_type": "code",
   "execution_count": 10,
   "metadata": {},
   "outputs": [
    {
     "data": {
      "text/latex": [
       "$\\displaystyle 5 x e^{- 0.3 y}$"
      ],
      "text/plain": [
       "5*x*exp(-0.3*y)"
      ]
     },
     "execution_count": 10,
     "metadata": {},
     "output_type": "execute_result"
    }
   ],
   "source": [
    "fxy =5*x*exp(-0.3*y)\n",
    "fxy"
   ]
  },
  {
   "cell_type": "markdown",
   "metadata": {},
   "source": [
    "Debemos calcular , pero sabemos que .𝑃(𝑥 < 0. 30, 𝑦 > 2) 0. 20 < 𝑥 < 0. 40, 𝑦 > 0 Entonces: 𝑃(0. 20 < 𝑥 < 0. 30, 𝑦 > 2)"
   ]
  },
  {
   "cell_type": "code",
   "execution_count": 11,
   "metadata": {},
   "outputs": [
    {
     "data": {
      "text/latex": [
       "$\\displaystyle 9.14686060156711 x$"
      ],
      "text/plain": [
       "9.14686060156711*x"
      ]
     },
     "execution_count": 11,
     "metadata": {},
     "output_type": "execute_result"
    }
   ],
   "source": [
    "# 𝑃(0. 20 < 𝑥 < 0. 30, 𝑦 > 2)\n",
    "\n",
    "I = integrate(fxy,(y,2,math.inf))\n",
    "I"
   ]
  },
  {
   "cell_type": "code",
   "execution_count": 12,
   "metadata": {},
   "outputs": [
    {
     "data": {
      "text/latex": [
       "$\\displaystyle 0.228671515039178$"
      ],
      "text/plain": [
       "0.228671515039178"
      ]
     },
     "execution_count": 12,
     "metadata": {},
     "output_type": "execute_result"
    }
   ],
   "source": [
    "P = integrate(I,(x,0.2,0.3))\n",
    "P"
   ]
  },
  {
   "cell_type": "markdown",
   "metadata": {},
   "source": [
    "$𝑃(0. 20 < 𝑥 < 0. 30, 𝑦 > 2) = 0.22867$"
   ]
  },
  {
   "cell_type": "markdown",
   "metadata": {},
   "source": [
    "### b. Halle la función de densidad marginal de 𝑋 e 𝑌"
   ]
  },
  {
   "cell_type": "code",
   "execution_count": 13,
   "metadata": {},
   "outputs": [
    {
     "data": {
      "text/latex": [
       "$\\displaystyle 16.6666666666667 x$"
      ],
      "text/plain": [
       "16.6666666666667*x"
      ]
     },
     "execution_count": 13,
     "metadata": {},
     "output_type": "execute_result"
    }
   ],
   "source": [
    "# Función de densidad marginal de X\n",
    "fx = integrate(fxy,(y,0,math.inf))\n",
    "fx"
   ]
  },
  {
   "cell_type": "code",
   "execution_count": 14,
   "metadata": {},
   "outputs": [
    {
     "data": {
      "text/latex": [
       "$\\displaystyle 0.3 e^{- 0.3 y}$"
      ],
      "text/plain": [
       "0.3*exp(-0.3*y)"
      ]
     },
     "execution_count": 14,
     "metadata": {},
     "output_type": "execute_result"
    }
   ],
   "source": [
    "# Función de densidad marginal de Y\n",
    "fy = integrate(fxy,(x,0.2,0.4))\n",
    "fy"
   ]
  },
  {
   "cell_type": "markdown",
   "metadata": {},
   "source": [
    "$f_1(x)=16.6667x,\\hspace{1cm}0.2<x<0.4$    \n",
    "$f_2(Y)=0.3e^{-0.3y},\\hspace{1cm}y > 0$\n"
   ]
  },
  {
   "cell_type": "markdown",
   "metadata": {},
   "source": [
    "### c. Halle la función de densidad condicional de 𝑋 dado 𝑌 = 𝑦 y la función de densidad condicional de 𝑌 dado 𝑋 = 𝑥"
   ]
  },
  {
   "cell_type": "code",
   "execution_count": 15,
   "metadata": {},
   "outputs": [
    {
     "data": {
      "text/latex": [
       "$\\displaystyle 16.6666666666667 x$"
      ],
      "text/plain": [
       "16.6666666666667*x"
      ]
     },
     "execution_count": 15,
     "metadata": {},
     "output_type": "execute_result"
    }
   ],
   "source": [
    "# Función de densidad condicional de X dado Y = y\n",
    "fx_y = fxy/fy\n",
    "fx_y"
   ]
  },
  {
   "cell_type": "code",
   "execution_count": 16,
   "metadata": {},
   "outputs": [
    {
     "data": {
      "text/latex": [
       "$\\displaystyle 0.3 e^{- 0.3 y}$"
      ],
      "text/plain": [
       "0.3*exp(-0.3*y)"
      ]
     },
     "execution_count": 16,
     "metadata": {},
     "output_type": "execute_result"
    }
   ],
   "source": [
    "# Función de densidad condicional de Y dado X = x\n",
    "fy_x = fxy/fx\n",
    "fy_x"
   ]
  },
  {
   "cell_type": "markdown",
   "metadata": {},
   "source": [
    "$f_1(X|Y)=16.6667x,\\hspace{1cm}0.2<x<0.4$    \n",
    "$f_2(Y|X)=0.3e^{-0.3y},\\hspace{1cm}y > 0$\n"
   ]
  }
 ],
 "metadata": {
  "kernelspec": {
   "display_name": "Env_MACD",
   "language": "python",
   "name": "python3"
  },
  "language_info": {
   "codemirror_mode": {
    "name": "ipython",
    "version": 3
   },
   "file_extension": ".py",
   "mimetype": "text/x-python",
   "name": "python",
   "nbconvert_exporter": "python",
   "pygments_lexer": "ipython3",
   "version": "3.11.0"
  }
 },
 "nbformat": 4,
 "nbformat_minor": 2
}
