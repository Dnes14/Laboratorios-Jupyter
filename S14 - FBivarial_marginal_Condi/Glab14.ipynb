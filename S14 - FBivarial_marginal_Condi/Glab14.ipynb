{
 "cells": [
  {
   "cell_type": "code",
   "execution_count": 2,
   "metadata": {},
   "outputs": [],
   "source": [
    "import pandas as pd \n",
    "import numpy as np \n",
    "import math \n",
    "\n",
    "from sympy import integrate\n",
    "from sympy.abc import x, y"
   ]
  },
  {
   "cell_type": "markdown",
   "metadata": {},
   "source": [
    "Dos cápsulas se seleccionan al azar de un frasco que contiene tres aspirinas, dos sedantes y cuatro laxantes. 𝑋 e 𝑌 representan, respectivamente, los números de cápsulas de aspirina y sedante de dos cápsulas tomadas al azar.  \n",
    "\n",
    "\n",
    "a. Halle la función de distribución conjunta de 𝑋 e 𝑌.    \n",
    "b. Halle la función de distribución marginal de 𝑌 = 1.   \n",
    "c. Halle la función de distribución condicional de 𝑋 dado 𝑌 = 1   "
   ]
  },
  {
   "cell_type": "code",
   "execution_count": 12,
   "metadata": {},
   "outputs": [
    {
     "name": "stdout",
     "output_type": "stream",
     "text": [
      "X= [0 0 1 1 2 0]\n",
      "Y= [0 1 0 1 0 2]\n",
      "Z= [2 1 1 0 0 0]\n"
     ]
    }
   ],
   "source": [
    "# Definimos los valores de x, y, z\n",
    "\n",
    "x = np.array([0,0,1,1,2,0])\n",
    "print(\"X=\",x)\n",
    "y = np.array([0,1,0,1,0,2])\n",
    "print(\"Y=\",y)\n",
    "z = np.array([2,1,1,0,0,0])\n",
    "print(\"Z=\",z) "
   ]
  },
  {
   "cell_type": "code",
   "execution_count": 17,
   "metadata": {},
   "outputs": [
    {
     "name": "stdout",
     "output_type": "stream",
     "text": [
      "Total maneras = 36\n"
     ]
    }
   ],
   "source": [
    "A, S, L = 3, 2, 4\n",
    "T = A+S+L\n",
    "n = math.comb(T,2) # Combinaciones de T en 2\n",
    "print(\"Total maneras =\",n)\n",
    "p = len(x)\n"
   ]
  },
  {
   "cell_type": "code",
   "execution_count": 18,
   "metadata": {},
   "outputs": [
    {
     "name": "stdout",
     "output_type": "stream",
     "text": [
      "[ 6.  8. 12.  6.  3.  1.]\n"
     ]
    }
   ],
   "source": [
    "Maneras = np.zeros(p)\n",
    "for i in range(p):\n",
    "    Maneras[i] = math.comb(A,x[i]) * math.comb(S,y[i]) * math.comb(L,z[i])\n",
    "print(Maneras)"
   ]
  },
  {
   "cell_type": "code",
   "execution_count": 19,
   "metadata": {},
   "outputs": [
    {
     "name": "stdout",
     "output_type": "stream",
     "text": [
      "f(x,y)= [0.16666667 0.22222222 0.33333333 0.16666667 0.08333333 0.02777778]\n"
     ]
    }
   ],
   "source": [
    "fxy = Maneras/n\n",
    "\n",
    "print(\"f(x,y)=\",fxy)\n"
   ]
  },
  {
   "cell_type": "code",
   "execution_count": 6,
   "metadata": {},
   "outputs": [
    {
     "data": {
      "text/html": [
       "<div>\n",
       "<style scoped>\n",
       "    .dataframe tbody tr th:only-of-type {\n",
       "        vertical-align: middle;\n",
       "    }\n",
       "\n",
       "    .dataframe tbody tr th {\n",
       "        vertical-align: top;\n",
       "    }\n",
       "\n",
       "    .dataframe thead th {\n",
       "        text-align: right;\n",
       "    }\n",
       "</style>\n",
       "<table border=\"1\" class=\"dataframe\">\n",
       "  <thead>\n",
       "    <tr style=\"text-align: right;\">\n",
       "      <th></th>\n",
       "      <th>X</th>\n",
       "      <th>Y</th>\n",
       "      <th>f(x,y)</th>\n",
       "    </tr>\n",
       "  </thead>\n",
       "  <tbody>\n",
       "    <tr>\n",
       "      <th>0</th>\n",
       "      <td>0</td>\n",
       "      <td>0</td>\n",
       "      <td>0.166667</td>\n",
       "    </tr>\n",
       "    <tr>\n",
       "      <th>1</th>\n",
       "      <td>0</td>\n",
       "      <td>1</td>\n",
       "      <td>0.222222</td>\n",
       "    </tr>\n",
       "    <tr>\n",
       "      <th>2</th>\n",
       "      <td>1</td>\n",
       "      <td>0</td>\n",
       "      <td>0.333333</td>\n",
       "    </tr>\n",
       "    <tr>\n",
       "      <th>3</th>\n",
       "      <td>1</td>\n",
       "      <td>1</td>\n",
       "      <td>0.166667</td>\n",
       "    </tr>\n",
       "    <tr>\n",
       "      <th>4</th>\n",
       "      <td>2</td>\n",
       "      <td>0</td>\n",
       "      <td>0.083333</td>\n",
       "    </tr>\n",
       "    <tr>\n",
       "      <th>5</th>\n",
       "      <td>0</td>\n",
       "      <td>2</td>\n",
       "      <td>0.027778</td>\n",
       "    </tr>\n",
       "  </tbody>\n",
       "</table>\n",
       "</div>"
      ],
      "text/plain": [
       "   X  Y    f(x,y)\n",
       "0  0  0  0.166667\n",
       "1  0  1  0.222222\n",
       "2  1  0  0.333333\n",
       "3  1  1  0.166667\n",
       "4  2  0  0.083333\n",
       "5  0  2  0.027778"
      ]
     },
     "execution_count": 6,
     "metadata": {},
     "output_type": "execute_result"
    }
   ],
   "source": [
    "# Funcion de distribucion conjunta\n",
    "tabla = pd.DataFrame({\"X\":x,\"Y\":y,\"f(x,y)\":fxy})\n",
    "tabla"
   ]
  },
  {
   "cell_type": "code",
   "execution_count": 7,
   "metadata": {},
   "outputs": [
    {
     "name": "stdout",
     "output_type": "stream",
     "text": [
      "0.3889\n"
     ]
    }
   ],
   "source": [
    "# Funcion de distribucion marginal Y=1\n",
    "s=0\n",
    "for i in range(p):\n",
    "    if y[i]==1:\n",
    "        s=s+fxy[i]\n",
    "fy1 = round(s,4)\n",
    "print(fy1)\n"
   ]
  },
  {
   "cell_type": "code",
   "execution_count": 8,
   "metadata": {},
   "outputs": [
    {
     "name": "stdout",
     "output_type": "stream",
     "text": [
      "[0.57141225 0.42855918 0.        ]\n"
     ]
    }
   ],
   "source": [
    "# Funcion de distribucion condicional de X dado Y=1\n",
    "fx_y = (np.delete(fxy,(0,2,4,5)))/fy1\n",
    "fx_y = np.append(fx_y,0)\n",
    "print(fx_y)"
   ]
  },
  {
   "cell_type": "markdown",
   "metadata": {},
   "source": [
    "# Caso continuo\n"
   ]
  },
  {
   "cell_type": "code",
   "execution_count": 3,
   "metadata": {},
   "outputs": [
    {
     "data": {
      "text/latex": [
       "$\\displaystyle 0.8 x + 1.2 y$"
      ],
      "text/plain": [
       "0.8*x + 1.2*y"
      ]
     },
     "execution_count": 3,
     "metadata": {},
     "output_type": "execute_result"
    }
   ],
   "source": [
    "fxy =(2/5)*(2*x+3*y)\n",
    "fxy"
   ]
  },
  {
   "cell_type": "code",
   "execution_count": 4,
   "metadata": {},
   "outputs": [
    {
     "data": {
      "text/latex": [
       "$\\displaystyle 0.24 y + 0.144$"
      ],
      "text/plain": [
       "0.24*y + 0.144"
      ]
     },
     "execution_count": 4,
     "metadata": {},
     "output_type": "execute_result"
    }
   ],
   "source": [
    "# P(X > 0.8, Y < 0.5)\n",
    "I = integrate(fxy,(x,0.8,1))\n",
    "I"
   ]
  },
  {
   "cell_type": "code",
   "execution_count": 5,
   "metadata": {},
   "outputs": [
    {
     "data": {
      "text/latex": [
       "$\\displaystyle 0.102$"
      ],
      "text/plain": [
       "0.102000000000000"
      ]
     },
     "execution_count": 5,
     "metadata": {},
     "output_type": "execute_result"
    }
   ],
   "source": [
    "P = integrate(I,(y,0,0.5))\n",
    "P"
   ]
  },
  {
   "cell_type": "code",
   "execution_count": 6,
   "metadata": {},
   "outputs": [
    {
     "data": {
      "text/latex": [
       "$\\displaystyle 0.8 x + 0.6$"
      ],
      "text/plain": [
       "0.8*x + 0.6"
      ]
     },
     "execution_count": 6,
     "metadata": {},
     "output_type": "execute_result"
    }
   ],
   "source": [
    "# Función de densidad marginal de X\n",
    "fx = integrate(fxy,(y,0,1))\n",
    "fx"
   ]
  },
  {
   "cell_type": "code",
   "execution_count": 7,
   "metadata": {},
   "outputs": [
    {
     "data": {
      "text/latex": [
       "$\\displaystyle 1.2 y + 0.4$"
      ],
      "text/plain": [
       "1.2*y + 0.4"
      ]
     },
     "execution_count": 7,
     "metadata": {},
     "output_type": "execute_result"
    }
   ],
   "source": [
    "# Función de densidad marginal de Y\n",
    "fy = integrate(fxy,(x,0,1))\n",
    "fy"
   ]
  },
  {
   "cell_type": "code",
   "execution_count": 8,
   "metadata": {},
   "outputs": [
    {
     "data": {
      "text/latex": [
       "$\\displaystyle \\frac{0.8 x + 1.2 y}{1.2 y + 0.4}$"
      ],
      "text/plain": [
       "(0.8*x + 1.2*y)/(1.2*y + 0.4)"
      ]
     },
     "execution_count": 8,
     "metadata": {},
     "output_type": "execute_result"
    }
   ],
   "source": [
    "# Función de densidad condicional de X dado Y = y\n",
    "fx_y = fxy/fy\n",
    "fx_y"
   ]
  },
  {
   "cell_type": "code",
   "execution_count": 9,
   "metadata": {},
   "outputs": [
    {
     "data": {
      "text/latex": [
       "$\\displaystyle \\frac{0.8 x + 1.2 y}{0.8 x + 0.6}$"
      ],
      "text/plain": [
       "(0.8*x + 1.2*y)/(0.8*x + 0.6)"
      ]
     },
     "execution_count": 9,
     "metadata": {},
     "output_type": "execute_result"
    }
   ],
   "source": [
    "# Función de densidad condicional de Y dado X = x\n",
    "fy_x = fxy/fx\n",
    "fy_x"
   ]
  }
 ],
 "metadata": {
  "kernelspec": {
   "display_name": "Env_MACD",
   "language": "python",
   "name": "python3"
  },
  "language_info": {
   "codemirror_mode": {
    "name": "ipython",
    "version": 3
   },
   "file_extension": ".py",
   "mimetype": "text/x-python",
   "name": "python",
   "nbconvert_exporter": "python",
   "pygments_lexer": "ipython3",
   "version": "3.11.0"
  }
 },
 "nbformat": 4,
 "nbformat_minor": 2
}
